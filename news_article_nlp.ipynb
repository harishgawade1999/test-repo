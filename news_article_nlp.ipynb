{
 "cells": [
  {
   "cell_type": "markdown",
   "metadata": {},
   "source": [
    "# News Article Summarization and Keyword Extraction via NLP\n",
    "\n",
    "In this demo, we will create an NLP pipeline that will summarize and extract keywords from a news article URL. We will be using state-of-the-art transformer models such as BERT to perform these NLP tasks.\n",
    "\n",
    "Additionally, we will be using MLRun's real-time inference graphs to create the pipeline. This allows for easy containerization and deployment of our pipeline on top of a production-ready Kubernetes cluster.\n",
    "\n",
    "The full pipeline will do the following:\n",
    "1. Retrieve news article text and metadata from URL using newspaper3k\n",
    "2. Summarize article text via Huggingface pipeline using DistilBart model\n",
    "3. Extract article keywords via KeyBERT using BERT-embeddings and cosine similarity\n",
    "4. Remove the original article text from the response (optional)\n",
    "5. Persist record in KV table"
   ]
  },
  {
   "cell_type": "markdown",
   "metadata": {},
   "source": [
    "### Install Local Dependencies"
   ]
  },
  {
   "cell_type": "code",
   "execution_count": 1,
   "metadata": {},
   "outputs": [
    {
     "name": "stdout",
     "output_type": "stream",
     "text": [
      "Requirement already satisfied: transformers==4.11.3 in /opt/conda/lib/python3.9/site-packages (4.11.3)\n",
      "Requirement already satisfied: newspaper3k==0.2.8 in /opt/conda/lib/python3.9/site-packages (0.2.8)\n",
      "Requirement already satisfied: keybert~=0.7.0 in /opt/conda/lib/python3.9/site-packages (0.7.0)\n",
      "Requirement already satisfied: huggingface-hub>=0.0.17 in /opt/conda/lib/python3.9/site-packages (from transformers==4.11.3) (0.20.1)\n",
      "Requirement already satisfied: pyyaml>=5.1 in /opt/conda/lib/python3.9/site-packages (from transformers==4.11.3) (5.4.1)\n",
      "Requirement already satisfied: regex!=2019.12.17 in /opt/conda/lib/python3.9/site-packages (from transformers==4.11.3) (2023.12.25)\n",
      "Requirement already satisfied: packaging>=20.0 in /opt/conda/lib/python3.9/site-packages (from transformers==4.11.3) (21.3)\n",
      "Requirement already satisfied: requests in /opt/conda/lib/python3.9/site-packages (from transformers==4.11.3) (2.28.1)\n",
      "Requirement already satisfied: tokenizers<0.11,>=0.10.1 in /opt/conda/lib/python3.9/site-packages (from transformers==4.11.3) (0.10.3)\n",
      "Requirement already satisfied: sacremoses in /opt/conda/lib/python3.9/site-packages (from transformers==4.11.3) (0.1.1)\n",
      "Requirement already satisfied: filelock in /opt/conda/lib/python3.9/site-packages (from transformers==4.11.3) (3.13.1)\n",
      "Requirement already satisfied: tqdm>=4.27 in /opt/conda/lib/python3.9/site-packages (from transformers==4.11.3) (4.64.1)\n",
      "Requirement already satisfied: numpy>=1.17 in /opt/conda/lib/python3.9/site-packages (from transformers==4.11.3) (1.22.4)\n",
      "Requirement already satisfied: jieba3k>=0.35.1 in /opt/conda/lib/python3.9/site-packages (from newspaper3k==0.2.8) (0.35.1)\n",
      "Requirement already satisfied: nltk>=3.2.1 in /opt/conda/lib/python3.9/site-packages (from newspaper3k==0.2.8) (3.8.1)\n",
      "Requirement already satisfied: python-dateutil>=2.5.3 in /opt/conda/lib/python3.9/site-packages (from newspaper3k==0.2.8) (2.8.2)\n",
      "Requirement already satisfied: beautifulsoup4>=4.4.1 in /opt/conda/lib/python3.9/site-packages (from newspaper3k==0.2.8) (4.11.1)\n",
      "Requirement already satisfied: feedparser>=5.2.1 in /opt/conda/lib/python3.9/site-packages (from newspaper3k==0.2.8) (6.0.11)\n",
      "Requirement already satisfied: cssselect>=0.9.2 in /opt/conda/lib/python3.9/site-packages (from newspaper3k==0.2.8) (1.2.0)\n",
      "Requirement already satisfied: lxml>=3.6.0 in /opt/conda/lib/python3.9/site-packages (from newspaper3k==0.2.8) (5.0.0)\n",
      "Requirement already satisfied: tldextract>=2.0.1 in /opt/conda/lib/python3.9/site-packages (from newspaper3k==0.2.8) (5.1.1)\n",
      "Requirement already satisfied: feedfinder2>=0.0.4 in /opt/conda/lib/python3.9/site-packages (from newspaper3k==0.2.8) (0.0.4)\n",
      "Requirement already satisfied: tinysegmenter==0.3 in /opt/conda/lib/python3.9/site-packages (from newspaper3k==0.2.8) (0.3)\n",
      "Requirement already satisfied: Pillow>=3.3.0 in /opt/conda/lib/python3.9/site-packages (from newspaper3k==0.2.8) (9.2.0)\n",
      "Requirement already satisfied: scikit-learn>=0.22.2 in /opt/conda/lib/python3.9/site-packages (from keybert~=0.7.0) (1.1.2)\n",
      "Requirement already satisfied: rich>=10.4.0 in /opt/conda/lib/python3.9/site-packages (from keybert~=0.7.0) (13.7.0)\n",
      "Requirement already satisfied: sentence-transformers>=0.3.8 in /opt/conda/lib/python3.9/site-packages (from keybert~=0.7.0) (2.2.2)\n",
      "Requirement already satisfied: soupsieve>1.2 in /opt/conda/lib/python3.9/site-packages (from beautifulsoup4>=4.4.1->newspaper3k==0.2.8) (2.3.2.post1)\n",
      "Requirement already satisfied: six in /opt/conda/lib/python3.9/site-packages (from feedfinder2>=0.0.4->newspaper3k==0.2.8) (1.16.0)\n",
      "Requirement already satisfied: sgmllib3k in /opt/conda/lib/python3.9/site-packages (from feedparser>=5.2.1->newspaper3k==0.2.8) (1.0.0)\n",
      "Requirement already satisfied: fsspec>=2023.5.0 in /opt/conda/lib/python3.9/site-packages (from huggingface-hub>=0.0.17->transformers==4.11.3) (2023.12.2)\n",
      "Requirement already satisfied: typing-extensions>=3.7.4.3 in /opt/conda/lib/python3.9/site-packages (from huggingface-hub>=0.0.17->transformers==4.11.3) (4.4.0)\n",
      "Requirement already satisfied: click in /opt/conda/lib/python3.9/site-packages (from nltk>=3.2.1->newspaper3k==0.2.8) (8.0.4)\n",
      "Requirement already satisfied: joblib in /opt/conda/lib/python3.9/site-packages (from nltk>=3.2.1->newspaper3k==0.2.8) (1.2.0)\n",
      "Requirement already satisfied: pyparsing!=3.0.5,>=2.0.2 in /opt/conda/lib/python3.9/site-packages (from packaging>=20.0->transformers==4.11.3) (3.0.9)\n",
      "Requirement already satisfied: idna<4,>=2.5 in /opt/conda/lib/python3.9/site-packages (from requests->transformers==4.11.3) (3.4)\n",
      "Requirement already satisfied: certifi>=2017.4.17 in /opt/conda/lib/python3.9/site-packages (from requests->transformers==4.11.3) (2022.9.24)\n",
      "Requirement already satisfied: urllib3<1.27,>=1.21.1 in /opt/conda/lib/python3.9/site-packages (from requests->transformers==4.11.3) (1.26.11)\n",
      "Requirement already satisfied: charset-normalizer<3,>=2 in /opt/conda/lib/python3.9/site-packages (from requests->transformers==4.11.3) (2.1.1)\n",
      "Requirement already satisfied: pygments<3.0.0,>=2.13.0 in /opt/conda/lib/python3.9/site-packages (from rich>=10.4.0->keybert~=0.7.0) (2.13.0)\n",
      "Requirement already satisfied: markdown-it-py>=2.2.0 in /opt/conda/lib/python3.9/site-packages (from rich>=10.4.0->keybert~=0.7.0) (3.0.0)\n",
      "Requirement already satisfied: scipy>=1.3.2 in /opt/conda/lib/python3.9/site-packages (from scikit-learn>=0.22.2->keybert~=0.7.0) (1.9.1)\n",
      "Requirement already satisfied: threadpoolctl>=2.0.0 in /opt/conda/lib/python3.9/site-packages (from scikit-learn>=0.22.2->keybert~=0.7.0) (3.1.0)\n",
      "Requirement already satisfied: sentencepiece in /opt/conda/lib/python3.9/site-packages (from sentence-transformers>=0.3.8->keybert~=0.7.0) (0.1.99)\n",
      "Requirement already satisfied: torch>=1.6.0 in /opt/conda/lib/python3.9/site-packages (from sentence-transformers>=0.3.8->keybert~=0.7.0) (2.1.2)\n",
      "Requirement already satisfied: torchvision in /opt/conda/lib/python3.9/site-packages (from sentence-transformers>=0.3.8->keybert~=0.7.0) (0.16.2)\n",
      "Requirement already satisfied: requests-file>=1.4 in /opt/conda/lib/python3.9/site-packages (from tldextract>=2.0.1->newspaper3k==0.2.8) (1.5.1)\n",
      "Requirement already satisfied: mdurl~=0.1 in /opt/conda/lib/python3.9/site-packages (from markdown-it-py>=2.2.0->rich>=10.4.0->keybert~=0.7.0) (0.1.2)\n",
      "Requirement already satisfied: nvidia-nccl-cu12==2.18.1 in /opt/conda/lib/python3.9/site-packages (from torch>=1.6.0->sentence-transformers>=0.3.8->keybert~=0.7.0) (2.18.1)\n",
      "Requirement already satisfied: networkx in /opt/conda/lib/python3.9/site-packages (from torch>=1.6.0->sentence-transformers>=0.3.8->keybert~=0.7.0) (2.8.7)\n",
      "Requirement already satisfied: nvidia-cuda-runtime-cu12==12.1.105 in /opt/conda/lib/python3.9/site-packages (from torch>=1.6.0->sentence-transformers>=0.3.8->keybert~=0.7.0) (12.1.105)\n",
      "Requirement already satisfied: nvidia-cuda-cupti-cu12==12.1.105 in /opt/conda/lib/python3.9/site-packages (from torch>=1.6.0->sentence-transformers>=0.3.8->keybert~=0.7.0) (12.1.105)\n",
      "Requirement already satisfied: nvidia-cusolver-cu12==11.4.5.107 in /opt/conda/lib/python3.9/site-packages (from torch>=1.6.0->sentence-transformers>=0.3.8->keybert~=0.7.0) (11.4.5.107)\n",
      "Requirement already satisfied: sympy in /opt/conda/lib/python3.9/site-packages (from torch>=1.6.0->sentence-transformers>=0.3.8->keybert~=0.7.0) (1.11.1)\n",
      "Requirement already satisfied: nvidia-cublas-cu12==12.1.3.1 in /opt/conda/lib/python3.9/site-packages (from torch>=1.6.0->sentence-transformers>=0.3.8->keybert~=0.7.0) (12.1.3.1)\n",
      "Requirement already satisfied: nvidia-cudnn-cu12==8.9.2.26 in /opt/conda/lib/python3.9/site-packages (from torch>=1.6.0->sentence-transformers>=0.3.8->keybert~=0.7.0) (8.9.2.26)\n",
      "Requirement already satisfied: triton==2.1.0 in /opt/conda/lib/python3.9/site-packages (from torch>=1.6.0->sentence-transformers>=0.3.8->keybert~=0.7.0) (2.1.0)\n",
      "Requirement already satisfied: nvidia-cufft-cu12==11.0.2.54 in /opt/conda/lib/python3.9/site-packages (from torch>=1.6.0->sentence-transformers>=0.3.8->keybert~=0.7.0) (11.0.2.54)\n",
      "Requirement already satisfied: nvidia-cusparse-cu12==12.1.0.106 in /opt/conda/lib/python3.9/site-packages (from torch>=1.6.0->sentence-transformers>=0.3.8->keybert~=0.7.0) (12.1.0.106)\n",
      "Requirement already satisfied: nvidia-curand-cu12==10.3.2.106 in /opt/conda/lib/python3.9/site-packages (from torch>=1.6.0->sentence-transformers>=0.3.8->keybert~=0.7.0) (10.3.2.106)\n",
      "Requirement already satisfied: nvidia-nvtx-cu12==12.1.105 in /opt/conda/lib/python3.9/site-packages (from torch>=1.6.0->sentence-transformers>=0.3.8->keybert~=0.7.0) (12.1.105)\n",
      "Requirement already satisfied: nvidia-cuda-nvrtc-cu12==12.1.105 in /opt/conda/lib/python3.9/site-packages (from torch>=1.6.0->sentence-transformers>=0.3.8->keybert~=0.7.0) (12.1.105)\n",
      "Requirement already satisfied: jinja2 in /opt/conda/lib/python3.9/site-packages (from torch>=1.6.0->sentence-transformers>=0.3.8->keybert~=0.7.0) (3.1.2)\n",
      "Requirement already satisfied: nvidia-nvjitlink-cu12 in /opt/conda/lib/python3.9/site-packages (from nvidia-cusolver-cu12==11.4.5.107->torch>=1.6.0->sentence-transformers>=0.3.8->keybert~=0.7.0) (12.3.101)\n",
      "Requirement already satisfied: MarkupSafe>=2.0 in /opt/conda/lib/python3.9/site-packages (from jinja2->torch>=1.6.0->sentence-transformers>=0.3.8->keybert~=0.7.0) (2.1.1)\n",
      "Requirement already satisfied: mpmath>=0.19 in /opt/conda/lib/python3.9/site-packages (from sympy->torch>=1.6.0->sentence-transformers>=0.3.8->keybert~=0.7.0) (1.2.1)\n",
      "\n",
      "\u001b[1m[\u001b[0m\u001b[34;49mnotice\u001b[0m\u001b[1;39;49m]\u001b[0m\u001b[39;49m A new release of pip available: \u001b[0m\u001b[31;49m22.3.1\u001b[0m\u001b[39;49m -> \u001b[0m\u001b[32;49m23.3.2\u001b[0m\n",
      "\u001b[1m[\u001b[0m\u001b[34;49mnotice\u001b[0m\u001b[1;39;49m]\u001b[0m\u001b[39;49m To update, run: \u001b[0m\u001b[32;49mpip install --upgrade pip\u001b[0m\n"
     ]
    }
   ],
   "source": [
    "!pip install transformers==4.11.3 newspaper3k==0.2.8 keybert~=0.7.0"
   ]
  },
  {
   "cell_type": "markdown",
   "metadata": {},
   "source": [
    "### Define MLRun Function\n",
    "Here we define the serverless function that will containerize and deploy our application. We can add dependencies and commands to the image build, define replicas for scaling, add environment variables, and more."
   ]
  },
  {
   "cell_type": "code",
   "execution_count": 2,
   "metadata": {},
   "outputs": [],
   "source": [
    "import os\n",
    "import mlrun"
   ]
  },
  {
   "cell_type": "code",
   "execution_count": 3,
   "metadata": {},
   "outputs": [
    {
     "name": "stdout",
     "output_type": "stream",
     "text": [
      "> 2024-01-03 09:25:19,252 [info] Project loaded successfully: {'project_name': 'nlp-demo'}\n"
     ]
    }
   ],
   "source": [
    "project_name = \"nlp-demo\"\n",
    "project = mlrun.get_or_create_project(project_name, context=\"./\", user_project=True)"
   ]
  },
  {
   "cell_type": "code",
   "execution_count": 4,
   "metadata": {},
   "outputs": [
    {
     "name": "stdout",
     "output_type": "stream",
     "text": [
      "> 2024-01-03 09:25:19,264 [warning] Failed to add git metadata, ignore if path is not part of a git repo.: {'path': './', 'error': '/home/jovyan'}\n"
     ]
    },
    {
     "data": {
      "text/plain": [
       "<mlrun.runtimes.serving.ServingRuntime at 0x7f89f9fbf640>"
      ]
     },
     "execution_count": 4,
     "metadata": {},
     "output_type": "execute_result"
    }
   ],
   "source": [
    "fn = mlrun.code_to_function(name=\"news-article-nlp\", filename=\"nlp_transformations.py\",\n",
    "                            kind=\"serving\", image='mlrun/mlrun')\n",
    "fn.spec.min_replicas = 1\n",
    "fn.spec.max_replicas = 1\n",
    "fn.spec.build.commands = [\n",
    "    \"python -m pip install transformers==4.11.3 newspaper3k==0.2.8 keybert~=0.7.0\",\n",
    "    \"python -c 'from transformers import pipeline; pipeline(\\\"summarization\\\")'\",\n",
    "    \"python -c 'from keybert import KeyBERT; KeyBERT()'\"\n",
    "]\n",
    "fn.set_env(\"SENTENCE_TRANSFORMERS_HOME\",\"/tmp\")\n",
    "fn.set_env(\"TRANSFORMERS_CACHE\",\"/tmp\")"
   ]
  },
  {
   "cell_type": "markdown",
   "metadata": {},
   "source": [
    "### Define Real-Time Serving Graph\n",
    "Here we will orchestrate the functions and classes we want to run in our pipeline. The source code for these functions is located in `project/nlp_transformations.py`. Notice, this is the same file we used when running `code_to_function` in the cell above."
   ]
  },
  {
   "cell_type": "code",
   "execution_count": 5,
   "metadata": {},
   "outputs": [],
   "source": [
    "redis_url = \"redis://:@127.0.0.1:6379\"\n",
    "\n",
    "if not redis_url:\n",
    "    if os.environ.get('V3IO_ACCESS_KEY'): # Running on iguazio platform\n",
    "        container = \"bigdata\"\n",
    "        table_path = f\"nlp-{os.getenv('V3IO_USERNAME')}\"\n",
    "        key = \"title\""
   ]
  },
  {
   "cell_type": "code",
   "execution_count": 6,
   "metadata": {},
   "outputs": [
    {
     "data": {
      "image/svg+xml": [
       "<?xml version=\"1.0\" encoding=\"UTF-8\" standalone=\"no\"?>\n",
       "<!DOCTYPE svg PUBLIC \"-//W3C//DTD SVG 1.1//EN\"\n",
       " \"http://www.w3.org/Graphics/SVG/1.1/DTD/svg11.dtd\">\n",
       "<!-- Generated by graphviz version 2.43.0 (0)\n",
       " -->\n",
       "<!-- Title: mlrun&#45;flow Pages: 1 -->\n",
       "<svg width=\"1019pt\" height=\"44pt\"\n",
       " viewBox=\"0.00 0.00 1018.52 44.00\" xmlns=\"http://www.w3.org/2000/svg\" xmlns:xlink=\"http://www.w3.org/1999/xlink\">\n",
       "<g id=\"graph0\" class=\"graph\" transform=\"scale(1 1) rotate(0) translate(4 40)\">\n",
       "<title>mlrun&#45;flow</title>\n",
       "<polygon fill=\"white\" stroke=\"transparent\" points=\"-4,4 -4,-40 1014.52,-40 1014.52,4 -4,4\"/>\n",
       "<!-- _start -->\n",
       "<g id=\"node1\" class=\"node\">\n",
       "<title>_start</title>\n",
       "<polygon fill=\"lightgrey\" stroke=\"black\" points=\"31.43,-0.05 33.2,-0.15 34.96,-0.3 36.69,-0.49 38.39,-0.74 40.05,-1.03 41.67,-1.36 43.23,-1.75 44.73,-2.18 46.17,-2.65 47.54,-3.16 48.84,-3.71 50.06,-4.31 51.2,-4.94 52.25,-5.61 53.22,-6.31 54.09,-7.04 54.87,-7.8 55.56,-8.59 56.15,-9.41 56.65,-10.25 57.05,-11.11 57.36,-11.99 57.58,-12.89 57.7,-13.8 57.73,-14.72 57.68,-15.65 57.54,-16.59 57.31,-17.53 57.01,-18.47 56.63,-19.41 56.18,-20.35 55.66,-21.28 55.08,-22.2 54.43,-23.11 53.72,-24.01 52.97,-24.89 52.16,-25.75 51.3,-26.59 50.41,-27.41 49.48,-28.2 48.51,-28.96 47.51,-29.69 46.48,-30.39 45.43,-31.06 44.35,-31.69 43.26,-32.29 42.15,-32.84 41.02,-33.35 39.89,-33.82 38.74,-34.25 37.58,-34.64 36.42,-34.97 35.24,-35.26 34.07,-35.51 32.89,-35.7 31.71,-35.85 30.52,-35.95 29.34,-36 28.15,-36 26.96,-35.95 25.78,-35.85 24.6,-35.7 23.42,-35.51 22.24,-35.26 21.07,-34.97 19.91,-34.64 18.75,-34.25 17.6,-33.82 16.46,-33.35 15.34,-32.84 14.23,-32.29 13.13,-31.69 12.06,-31.06 11.01,-30.39 9.98,-29.69 8.98,-28.96 8.01,-28.2 7.08,-27.41 6.18,-26.59 5.33,-25.75 4.52,-24.89 3.76,-24.01 3.06,-23.11 2.41,-22.2 1.83,-21.28 1.3,-20.35 0.85,-19.41 0.47,-18.47 0.17,-17.53 -0.05,-16.59 -0.19,-15.65 -0.25,-14.72 -0.21,-13.8 -0.09,-12.89 0.13,-11.99 0.43,-11.11 0.84,-10.25 1.34,-9.41 1.93,-8.59 2.62,-7.8 3.4,-7.04 4.27,-6.31 5.24,-5.61 6.29,-4.94 7.43,-4.31 8.65,-3.71 9.94,-3.16 11.31,-2.65 12.75,-2.18 14.26,-1.75 15.82,-1.36 17.44,-1.03 19.1,-0.74 20.79,-0.49 22.53,-0.3 24.28,-0.15 26.06,-0.05 27.85,0 29.64,0 31.43,-0.05\"/>\n",
       "<text text-anchor=\"middle\" x=\"28.74\" y=\"-14.3\" font-family=\"Times,serif\" font-size=\"14.00\">start</text>\n",
       "</g>\n",
       "<!-- fetch_article -->\n",
       "<g id=\"node2\" class=\"node\">\n",
       "<title>fetch_article</title>\n",
       "<ellipse fill=\"none\" stroke=\"black\" cx=\"148.08\" cy=\"-18\" rx=\"54.69\" ry=\"18\"/>\n",
       "<text text-anchor=\"middle\" x=\"148.08\" y=\"-14.3\" font-family=\"Times,serif\" font-size=\"14.00\">fetch_article</text>\n",
       "</g>\n",
       "<!-- _start&#45;&gt;fetch_article -->\n",
       "<g id=\"edge1\" class=\"edge\">\n",
       "<title>_start&#45;&gt;fetch_article</title>\n",
       "<path fill=\"none\" stroke=\"black\" d=\"M57.25,-18C65.21,-18 74.25,-18 83.45,-18\"/>\n",
       "<polygon fill=\"black\" stroke=\"black\" points=\"83.46,-21.5 93.46,-18 83.46,-14.5 83.46,-21.5\"/>\n",
       "</g>\n",
       "<!-- summarize_article -->\n",
       "<g id=\"node3\" class=\"node\">\n",
       "<title>summarize_article</title>\n",
       "<ellipse fill=\"none\" stroke=\"black\" cx=\"315.37\" cy=\"-18\" rx=\"76.89\" ry=\"18\"/>\n",
       "<text text-anchor=\"middle\" x=\"315.37\" y=\"-14.3\" font-family=\"Times,serif\" font-size=\"14.00\">summarize_article</text>\n",
       "</g>\n",
       "<!-- fetch_article&#45;&gt;summarize_article -->\n",
       "<g id=\"edge2\" class=\"edge\">\n",
       "<title>fetch_article&#45;&gt;summarize_article</title>\n",
       "<path fill=\"none\" stroke=\"black\" d=\"M202.75,-18C210.94,-18 219.58,-18 228.26,-18\"/>\n",
       "<polygon fill=\"black\" stroke=\"black\" points=\"228.46,-21.5 238.46,-18 228.46,-14.5 228.46,-21.5\"/>\n",
       "</g>\n",
       "<!-- extract_keywords -->\n",
       "<g id=\"node4\" class=\"node\">\n",
       "<title>extract_keywords</title>\n",
       "<ellipse fill=\"none\" stroke=\"black\" cx=\"501.51\" cy=\"-18\" rx=\"73.39\" ry=\"18\"/>\n",
       "<text text-anchor=\"middle\" x=\"501.51\" y=\"-14.3\" font-family=\"Times,serif\" font-size=\"14.00\">extract_keywords</text>\n",
       "</g>\n",
       "<!-- summarize_article&#45;&gt;extract_keywords -->\n",
       "<g id=\"edge3\" class=\"edge\">\n",
       "<title>summarize_article&#45;&gt;extract_keywords</title>\n",
       "<path fill=\"none\" stroke=\"black\" d=\"M392.33,-18C400.71,-18 409.28,-18 417.73,-18\"/>\n",
       "<polygon fill=\"black\" stroke=\"black\" points=\"417.98,-21.5 427.98,-18 417.98,-14.5 417.98,-21.5\"/>\n",
       "</g>\n",
       "<!-- filter_article -->\n",
       "<g id=\"node5\" class=\"node\">\n",
       "<title>filter_article</title>\n",
       "<ellipse fill=\"none\" stroke=\"black\" cx=\"664.9\" cy=\"-18\" rx=\"53.89\" ry=\"18\"/>\n",
       "<text text-anchor=\"middle\" x=\"664.9\" y=\"-14.3\" font-family=\"Times,serif\" font-size=\"14.00\">filter_article</text>\n",
       "</g>\n",
       "<!-- extract_keywords&#45;&gt;filter_article -->\n",
       "<g id=\"edge4\" class=\"edge\">\n",
       "<title>extract_keywords&#45;&gt;filter_article</title>\n",
       "<path fill=\"none\" stroke=\"black\" d=\"M575.18,-18C583.53,-18 592,-18 600.22,-18\"/>\n",
       "<polygon fill=\"black\" stroke=\"black\" points=\"600.48,-21.5 610.48,-18 600.48,-14.5 600.48,-21.5\"/>\n",
       "</g>\n",
       "<!-- kv_format -->\n",
       "<g id=\"node6\" class=\"node\">\n",
       "<title>kv_format</title>\n",
       "<ellipse fill=\"none\" stroke=\"black\" cx=\"802.94\" cy=\"-18\" rx=\"48.19\" ry=\"18\"/>\n",
       "<text text-anchor=\"middle\" x=\"802.94\" y=\"-14.3\" font-family=\"Times,serif\" font-size=\"14.00\">kv_format</text>\n",
       "</g>\n",
       "<!-- filter_article&#45;&gt;kv_format -->\n",
       "<g id=\"edge5\" class=\"edge\">\n",
       "<title>filter_article&#45;&gt;kv_format</title>\n",
       "<path fill=\"none\" stroke=\"black\" d=\"M718.88,-18C727.26,-18 735.96,-18 744.44,-18\"/>\n",
       "<polygon fill=\"black\" stroke=\"black\" points=\"744.63,-21.5 754.63,-18 744.63,-14.5 744.63,-21.5\"/>\n",
       "</g>\n",
       "<!-- write_to_redis -->\n",
       "<g id=\"node7\" class=\"node\">\n",
       "<title>write_to_redis</title>\n",
       "<ellipse fill=\"none\" stroke=\"black\" cx=\"948.78\" cy=\"-18\" rx=\"61.99\" ry=\"18\"/>\n",
       "<text text-anchor=\"middle\" x=\"948.78\" y=\"-14.3\" font-family=\"Times,serif\" font-size=\"14.00\">write_to_redis</text>\n",
       "</g>\n",
       "<!-- kv_format&#45;&gt;write_to_redis -->\n",
       "<g id=\"edge6\" class=\"edge\">\n",
       "<title>kv_format&#45;&gt;write_to_redis</title>\n",
       "<path fill=\"none\" stroke=\"black\" d=\"M851.04,-18C859.28,-18 868.02,-18 876.74,-18\"/>\n",
       "<polygon fill=\"black\" stroke=\"black\" points=\"876.95,-21.5 886.95,-18 876.95,-14.5 876.95,-21.5\"/>\n",
       "</g>\n",
       "</g>\n",
       "</svg>\n"
      ],
      "text/plain": [
       "<graphviz.graphs.Digraph at 0x7f89f9fe81f0>"
      ]
     },
     "execution_count": 6,
     "metadata": {},
     "output_type": "execute_result"
    }
   ],
   "source": [
    "graph = fn.set_topology(\"flow\", engine=\"async\")\n",
    "\n",
    "graph.to(name=\"fetch_article\", handler=\"fetch_article\")\\\n",
    "     .to(name=\"summarize_article\", class_name=\"SummarizeArticle\")\\\n",
    "     .to(name=\"extract_keywords\", class_name=\"ExtractKeywords\")\\\n",
    "     .to(name=\"filter_article\", handler=\"filter_article\")\\\n",
    "     .to(name=\"kv_format\", handler=\"kv_format\", full_event=True)\n",
    "\n",
    "# On Iguazio's setup, V3IO fuse is enabled and using storey's steps we can write data to a KV table.\n",
    "# when using community-edition, Redis service has to be deployed, and using mlrun's redisnosql target\n",
    "# create a custom additional writing step.\n",
    "\n",
    "if redis_url: # writing to redis\n",
    "    graph.add_step(name='write_to_redis',class_name=\"storey.NoSqlTarget\", table=redis_url, after='kv_format')\n",
    "\n",
    "elif os.environ.get('V3IO_ACCESS_KEY'):\n",
    "        graph.add_step(name=\"write_to_kv\", class_name=\"storey.NoSqlTarget\", table=f\"v3io:///{container}/{table_path}\", after='kv_format').respond()\n",
    "else:\n",
    "    print(\"skip writing\")\n",
    "\n",
    "graph.plot(rankdir='LR')"
   ]
  },
  {
   "cell_type": "markdown",
   "metadata": {},
   "source": [
    "### Test the Pipeline Locally (using simulator)"
   ]
  },
  {
   "cell_type": "code",
   "execution_count": 7,
   "metadata": {},
   "outputs": [
    {
     "name": "stderr",
     "output_type": "stream",
     "text": [
      "No model was supplied, defaulted to sshleifer/distilbart-cnn-12-6 (https://huggingface.co/sshleifer/distilbart-cnn-12-6)\n"
     ]
    }
   ],
   "source": [
    "# import the step functions for simulation\n",
    "from nlp_transformations import *\n",
    "\n",
    "# create a mock server (simulator)\n",
    "server = fn.to_mock_server()"
   ]
  },
  {
   "cell_type": "code",
   "execution_count": 8,
   "metadata": {},
   "outputs": [
    {
     "data": {
      "text/plain": [
       "{'id': '11bc5b6f19a84b83bb5bde1908519c14'}"
      ]
     },
     "execution_count": 8,
     "metadata": {},
     "output_type": "execute_result"
    }
   ],
   "source": [
    "# test the pipeline\n",
    "server.test(\"/\", body={\"url\" : \"https://edition.cnn.com/2022/10/23/motorsport/dietrich-mateschitz-tributes-red-bull-spt-intl/index.html\"})"
   ]
  },
  {
   "cell_type": "markdown",
   "metadata": {},
   "source": [
    "### Containerize and Deploy Pipeline on K8s\n",
    "Here we easily containerize and deploy our application to our K8s cluster with a single command."
   ]
  },
  {
   "cell_type": "code",
   "execution_count": 9,
   "metadata": {},
   "outputs": [
    {
     "name": "stdout",
     "output_type": "stream",
     "text": [
      "> 2024-01-03 09:25:31,851 [warning] it is recommended to use k8s secret (specify secret_name), specifying the aws_access_key/aws_secret_key directly is unsafe\n",
      "> 2024-01-03 09:25:31,856 [info] Starting remote function deploy\n",
      "> 2024-01-03 09:25:31,992 [error] error submitting build task: 400 Client Error: Bad Request for url: http://192.168.31.75:30070/api/v1/build/function: details: {'reason': 'runtime error: 412 Client Error: Precondition Failed for url: http://nuclio-dashboard:8070/api/functions/nlp-demo-jovyan-news-article-nlp: Failed to deploy nuclio function nlp-demo-jovyan/nlp-demo-jovyan-news-article-nlp Function cannot be updated when existing function is being provisioned, caused by: 412 Client Error: Precondition Failed for url: http://nuclio-dashboard:8070/api/functions/nlp-demo-jovyan-news-article-nlp'}, caused by: 400 Client Error: Bad Request for url: http://192.168.31.75:30070/api/v1/build/function\n"
     ]
    },
    {
     "ename": "OSError",
     "evalue": "error: cannot submit build, 400 Client Error: Bad Request for url: http://192.168.31.75:30070/api/v1/build/function: details: {'reason': 'runtime error: 412 Client Error: Precondition Failed for url: http://nuclio-dashboard:8070/api/functions/nlp-demo-jovyan-news-article-nlp: Failed to deploy nuclio function nlp-demo-jovyan/nlp-demo-jovyan-news-article-nlp Function cannot be updated when existing function is being provisioned, caused by: 412 Client Error: Precondition Failed for url: http://nuclio-dashboard:8070/api/functions/nlp-demo-jovyan-news-article-nlp'}, caused by: 400 Client Error: Bad Request for url: http://192.168.31.75:30070/api/v1/build/function",
     "output_type": "error",
     "traceback": [
      "\u001b[0;31m---------------------------------------------------------------------------\u001b[0m",
      "\u001b[0;31mHTTPError\u001b[0m                                 Traceback (most recent call last)",
      "File \u001b[0;32m/opt/conda/lib/python3.9/site-packages/mlrun/errors.py:94\u001b[0m, in \u001b[0;36mraise_for_status\u001b[0;34m(response, message)\u001b[0m\n\u001b[1;32m     93\u001b[0m \u001b[38;5;28;01mtry\u001b[39;00m:\n\u001b[0;32m---> 94\u001b[0m     \u001b[43mresponse\u001b[49m\u001b[38;5;241;43m.\u001b[39;49m\u001b[43mraise_for_status\u001b[49m\u001b[43m(\u001b[49m\u001b[43m)\u001b[49m\n\u001b[1;32m     95\u001b[0m \u001b[38;5;28;01mexcept\u001b[39;00m (requests\u001b[38;5;241m.\u001b[39mHTTPError, aiohttp\u001b[38;5;241m.\u001b[39mClientResponseError) \u001b[38;5;28;01mas\u001b[39;00m exc:\n",
      "File \u001b[0;32m/opt/conda/lib/python3.9/site-packages/requests/models.py:1021\u001b[0m, in \u001b[0;36mResponse.raise_for_status\u001b[0;34m(self)\u001b[0m\n\u001b[1;32m   1020\u001b[0m \u001b[38;5;28;01mif\u001b[39;00m http_error_msg:\n\u001b[0;32m-> 1021\u001b[0m     \u001b[38;5;28;01mraise\u001b[39;00m HTTPError(http_error_msg, response\u001b[38;5;241m=\u001b[39m\u001b[38;5;28mself\u001b[39m)\n",
      "\u001b[0;31mHTTPError\u001b[0m: 400 Client Error: Bad Request for url: http://192.168.31.75:30070/api/v1/build/function",
      "\nThe above exception was the direct cause of the following exception:\n",
      "\u001b[0;31mMLRunBadRequestError\u001b[0m                      Traceback (most recent call last)",
      "File \u001b[0;32m/opt/conda/lib/python3.9/site-packages/mlrun/db/httpdb.py:1158\u001b[0m, in \u001b[0;36mHTTPRunDB.remote_builder\u001b[0;34m(self, func, with_mlrun, mlrun_version_specifier, skip_deployed, builder_env)\u001b[0m\n\u001b[1;32m   1157\u001b[0m         req[\u001b[38;5;124m\"\u001b[39m\u001b[38;5;124mbuilder_env\u001b[39m\u001b[38;5;124m\"\u001b[39m] \u001b[38;5;241m=\u001b[39m builder_env\n\u001b[0;32m-> 1158\u001b[0m     resp \u001b[38;5;241m=\u001b[39m \u001b[38;5;28;43mself\u001b[39;49m\u001b[38;5;241;43m.\u001b[39;49m\u001b[43mapi_call\u001b[49m\u001b[43m(\u001b[49m\u001b[38;5;124;43m\"\u001b[39;49m\u001b[38;5;124;43mPOST\u001b[39;49m\u001b[38;5;124;43m\"\u001b[39;49m\u001b[43m,\u001b[49m\u001b[43m \u001b[49m\u001b[38;5;124;43m\"\u001b[39;49m\u001b[38;5;124;43mbuild/function\u001b[39;49m\u001b[38;5;124;43m\"\u001b[39;49m\u001b[43m,\u001b[49m\u001b[43m \u001b[49m\u001b[43mjson\u001b[49m\u001b[38;5;241;43m=\u001b[39;49m\u001b[43mreq\u001b[49m\u001b[43m)\u001b[49m\n\u001b[1;32m   1159\u001b[0m \u001b[38;5;28;01mexcept\u001b[39;00m \u001b[38;5;167;01mOSError\u001b[39;00m \u001b[38;5;28;01mas\u001b[39;00m err:\n",
      "File \u001b[0;32m/opt/conda/lib/python3.9/site-packages/mlrun/db/httpdb.py:246\u001b[0m, in \u001b[0;36mHTTPRunDB.api_call\u001b[0;34m(self, method, path, error, params, body, json, headers, timeout, version)\u001b[0m\n\u001b[1;32m    245\u001b[0m         error \u001b[38;5;241m=\u001b[39m \u001b[38;5;124mf\u001b[39m\u001b[38;5;124m\"\u001b[39m\u001b[38;5;132;01m{\u001b[39;00merror\u001b[38;5;132;01m}\u001b[39;00m\u001b[38;5;124m \u001b[39m\u001b[38;5;132;01m{\u001b[39;00merror_details\u001b[38;5;132;01m}\u001b[39;00m\u001b[38;5;124m\"\u001b[39m \u001b[38;5;28;01mif\u001b[39;00m error \u001b[38;5;28;01melse\u001b[39;00m error_details\n\u001b[0;32m--> 246\u001b[0m         \u001b[43mmlrun\u001b[49m\u001b[38;5;241;43m.\u001b[39;49m\u001b[43merrors\u001b[49m\u001b[38;5;241;43m.\u001b[39;49m\u001b[43mraise_for_status\u001b[49m\u001b[43m(\u001b[49m\u001b[43mresponse\u001b[49m\u001b[43m,\u001b[49m\u001b[43m \u001b[49m\u001b[43merror\u001b[49m\u001b[43m)\u001b[49m\n\u001b[1;32m    248\u001b[0m mlrun\u001b[38;5;241m.\u001b[39merrors\u001b[38;5;241m.\u001b[39mraise_for_status(response, error)\n",
      "File \u001b[0;32m/opt/conda/lib/python3.9/site-packages/mlrun/errors.py:105\u001b[0m, in \u001b[0;36mraise_for_status\u001b[0;34m(response, message)\u001b[0m\n\u001b[1;32m    104\u001b[0m \u001b[38;5;28;01mtry\u001b[39;00m:\n\u001b[0;32m--> 105\u001b[0m     \u001b[38;5;28;01mraise\u001b[39;00m STATUS_ERRORS[status_code](error_message, response\u001b[38;5;241m=\u001b[39mresponse) \u001b[38;5;28;01mfrom\u001b[39;00m \u001b[38;5;21;01mexc\u001b[39;00m\n\u001b[1;32m    106\u001b[0m \u001b[38;5;28;01mexcept\u001b[39;00m \u001b[38;5;167;01mKeyError\u001b[39;00m:\n",
      "\u001b[0;31mMLRunBadRequestError\u001b[0m: 400 Client Error: Bad Request for url: http://192.168.31.75:30070/api/v1/build/function: details: {'reason': 'runtime error: 412 Client Error: Precondition Failed for url: http://nuclio-dashboard:8070/api/functions/nlp-demo-jovyan-news-article-nlp: Failed to deploy nuclio function nlp-demo-jovyan/nlp-demo-jovyan-news-article-nlp Function cannot be updated when existing function is being provisioned, caused by: 412 Client Error: Precondition Failed for url: http://nuclio-dashboard:8070/api/functions/nlp-demo-jovyan-news-article-nlp'}",
      "\nDuring handling of the above exception, another exception occurred:\n",
      "\u001b[0;31mOSError\u001b[0m                                   Traceback (most recent call last)",
      "Cell \u001b[0;32mIn [9], line 2\u001b[0m\n\u001b[1;32m      1\u001b[0m fn\u001b[38;5;241m.\u001b[39mspec\u001b[38;5;241m.\u001b[39mreadinessTimeoutSeconds \u001b[38;5;241m=\u001b[39m \u001b[38;5;241m60\u001b[39m \u001b[38;5;241m*\u001b[39m \u001b[38;5;241m30\u001b[39m  \u001b[38;5;66;03m# 30 minutes.\\n\",\u001b[39;00m\n\u001b[0;32m----> 2\u001b[0m \u001b[43mfn\u001b[49m\u001b[38;5;241;43m.\u001b[39;49m\u001b[43mdeploy\u001b[49m\u001b[43m(\u001b[49m\u001b[43m)\u001b[49m\n",
      "File \u001b[0;32m/opt/conda/lib/python3.9/site-packages/mlrun/runtimes/serving.py:637\u001b[0m, in \u001b[0;36mServingRuntime.deploy\u001b[0;34m(self, dashboard, project, tag, verbose, auth_info, builder_env)\u001b[0m\n\u001b[1;32m    634\u001b[0m     \u001b[38;5;28mself\u001b[39m\u001b[38;5;241m.\u001b[39m_deploy_function_refs()\n\u001b[1;32m    635\u001b[0m     logger\u001b[38;5;241m.\u001b[39minfo(\u001b[38;5;124mf\u001b[39m\u001b[38;5;124m\"\u001b[39m\u001b[38;5;124mdeploy root function \u001b[39m\u001b[38;5;132;01m{\u001b[39;00m\u001b[38;5;28mself\u001b[39m\u001b[38;5;241m.\u001b[39mmetadata\u001b[38;5;241m.\u001b[39mname\u001b[38;5;132;01m}\u001b[39;00m\u001b[38;5;124m ...\u001b[39m\u001b[38;5;124m\"\u001b[39m)\n\u001b[0;32m--> 637\u001b[0m \u001b[38;5;28;01mreturn\u001b[39;00m \u001b[38;5;28;43msuper\u001b[39;49m\u001b[43m(\u001b[49m\u001b[43m)\u001b[49m\u001b[38;5;241;43m.\u001b[39;49m\u001b[43mdeploy\u001b[49m\u001b[43m(\u001b[49m\n\u001b[1;32m    638\u001b[0m \u001b[43m    \u001b[49m\u001b[43mdashboard\u001b[49m\u001b[43m,\u001b[49m\u001b[43m \u001b[49m\u001b[43mproject\u001b[49m\u001b[43m,\u001b[49m\u001b[43m \u001b[49m\u001b[43mtag\u001b[49m\u001b[43m,\u001b[49m\u001b[43m \u001b[49m\u001b[43mverbose\u001b[49m\u001b[43m,\u001b[49m\u001b[43m \u001b[49m\u001b[43mauth_info\u001b[49m\u001b[43m,\u001b[49m\u001b[43m \u001b[49m\u001b[43mbuilder_env\u001b[49m\u001b[38;5;241;43m=\u001b[39;49m\u001b[43mbuilder_env\u001b[49m\n\u001b[1;32m    639\u001b[0m \u001b[43m\u001b[49m\u001b[43m)\u001b[49m\n",
      "File \u001b[0;32m/opt/conda/lib/python3.9/site-packages/mlrun/runtimes/function.py:581\u001b[0m, in \u001b[0;36mRemoteRuntime.deploy\u001b[0;34m(self, dashboard, project, tag, verbose, auth_info, builder_env)\u001b[0m\n\u001b[1;32m    579\u001b[0m db \u001b[38;5;241m=\u001b[39m \u001b[38;5;28mself\u001b[39m\u001b[38;5;241m.\u001b[39m_get_db()\n\u001b[1;32m    580\u001b[0m logger\u001b[38;5;241m.\u001b[39minfo(\u001b[38;5;124m\"\u001b[39m\u001b[38;5;124mStarting remote function deploy\u001b[39m\u001b[38;5;124m\"\u001b[39m)\n\u001b[0;32m--> 581\u001b[0m data \u001b[38;5;241m=\u001b[39m \u001b[43mdb\u001b[49m\u001b[38;5;241;43m.\u001b[39;49m\u001b[43mremote_builder\u001b[49m\u001b[43m(\u001b[49m\u001b[38;5;28;43mself\u001b[39;49m\u001b[43m,\u001b[49m\u001b[43m \u001b[49m\u001b[38;5;28;43;01mFalse\u001b[39;49;00m\u001b[43m,\u001b[49m\u001b[43m \u001b[49m\u001b[43mbuilder_env\u001b[49m\u001b[38;5;241;43m=\u001b[39;49m\u001b[43mbuilder_env\u001b[49m\u001b[43m)\u001b[49m\n\u001b[1;32m    582\u001b[0m \u001b[38;5;28mself\u001b[39m\u001b[38;5;241m.\u001b[39mstatus \u001b[38;5;241m=\u001b[39m data[\u001b[38;5;124m\"\u001b[39m\u001b[38;5;124mdata\u001b[39m\u001b[38;5;124m\"\u001b[39m]\u001b[38;5;241m.\u001b[39mget(\u001b[38;5;124m\"\u001b[39m\u001b[38;5;124mstatus\u001b[39m\u001b[38;5;124m\"\u001b[39m)\n\u001b[1;32m    583\u001b[0m \u001b[38;5;28mself\u001b[39m\u001b[38;5;241m.\u001b[39m_update_credentials_from_remote_build(data[\u001b[38;5;124m\"\u001b[39m\u001b[38;5;124mdata\u001b[39m\u001b[38;5;124m\"\u001b[39m])\n",
      "File \u001b[0;32m/opt/conda/lib/python3.9/site-packages/mlrun/db/httpdb.py:1161\u001b[0m, in \u001b[0;36mHTTPRunDB.remote_builder\u001b[0;34m(self, func, with_mlrun, mlrun_version_specifier, skip_deployed, builder_env)\u001b[0m\n\u001b[1;32m   1159\u001b[0m \u001b[38;5;28;01mexcept\u001b[39;00m \u001b[38;5;167;01mOSError\u001b[39;00m \u001b[38;5;28;01mas\u001b[39;00m err:\n\u001b[1;32m   1160\u001b[0m     logger\u001b[38;5;241m.\u001b[39merror(\u001b[38;5;124mf\u001b[39m\u001b[38;5;124m\"\u001b[39m\u001b[38;5;124merror submitting build task: \u001b[39m\u001b[38;5;132;01m{\u001b[39;00merr_to_str(err)\u001b[38;5;132;01m}\u001b[39;00m\u001b[38;5;124m\"\u001b[39m)\n\u001b[0;32m-> 1161\u001b[0m     \u001b[38;5;28;01mraise\u001b[39;00m \u001b[38;5;167;01mOSError\u001b[39;00m(\u001b[38;5;124mf\u001b[39m\u001b[38;5;124m\"\u001b[39m\u001b[38;5;124merror: cannot submit build, \u001b[39m\u001b[38;5;132;01m{\u001b[39;00merr_to_str(err)\u001b[38;5;132;01m}\u001b[39;00m\u001b[38;5;124m\"\u001b[39m)\n\u001b[1;32m   1163\u001b[0m \u001b[38;5;28;01mif\u001b[39;00m \u001b[38;5;129;01mnot\u001b[39;00m resp\u001b[38;5;241m.\u001b[39mok:\n\u001b[1;32m   1164\u001b[0m     logger\u001b[38;5;241m.\u001b[39merror(\u001b[38;5;124mf\u001b[39m\u001b[38;5;124m\"\u001b[39m\u001b[38;5;124mbad resp!!\u001b[39m\u001b[38;5;130;01m\\n\u001b[39;00m\u001b[38;5;132;01m{\u001b[39;00mresp\u001b[38;5;241m.\u001b[39mtext\u001b[38;5;132;01m}\u001b[39;00m\u001b[38;5;124m\"\u001b[39m)\n",
      "\u001b[0;31mOSError\u001b[0m: error: cannot submit build, 400 Client Error: Bad Request for url: http://192.168.31.75:30070/api/v1/build/function: details: {'reason': 'runtime error: 412 Client Error: Precondition Failed for url: http://nuclio-dashboard:8070/api/functions/nlp-demo-jovyan-news-article-nlp: Failed to deploy nuclio function nlp-demo-jovyan/nlp-demo-jovyan-news-article-nlp Function cannot be updated when existing function is being provisioned, caused by: 412 Client Error: Precondition Failed for url: http://nuclio-dashboard:8070/api/functions/nlp-demo-jovyan-news-article-nlp'}, caused by: 400 Client Error: Bad Request for url: http://192.168.31.75:30070/api/v1/build/function"
     ]
    }
   ],
   "source": [
    "fn.spec.readinessTimeoutSeconds = 60 * 30  # 30 minutes.\\n\",\n",
    "fn.deploy()"
   ]
  },
  {
   "cell_type": "markdown",
   "metadata": {},
   "source": [
    "### Test Pipeline with URLs From Various News Sources \n",
    "Here we can test the pipeline with various news sources. This pipeline should work with any source compatible with the `newspaper3k` Python library."
   ]
  },
  {
   "cell_type": "code",
   "execution_count": null,
   "metadata": {},
   "outputs": [],
   "source": [
    "fn.invoke(\n",
    "    path=\"/\",\n",
    "    body={\"url\" : \"https://edition.cnn.com/2022/10/22/china/china-party-congress-overseas-students-protest-intl-hnk/index.html\"}\n",
    ")"
   ]
  },
  {
   "cell_type": "code",
   "execution_count": null,
   "metadata": {},
   "outputs": [],
   "source": [
    "fn.invoke(\n",
    "    path=\"/\",\n",
    "    body={\"url\" : \"https://edition.cnn.com/2022/10/23/entertainment/matthew-perry-jennifer-aniston-alcohol/index.html\"}\n",
    ")"
   ]
  },
  {
   "cell_type": "code",
   "execution_count": null,
   "metadata": {},
   "outputs": [],
   "source": [
    "fn.invoke(\n",
    "    path=\"/\",\n",
    "    body={\"url\" : \"https://www.npr.org/2022/10/24/1130915534/the-houston-astros-and-philadelphia-phillies-will-face-each-other-in-the-world-s\"}\n",
    ")"
   ]
  },
  {
   "cell_type": "code",
   "execution_count": null,
   "metadata": {},
   "outputs": [],
   "source": [
    "fn.invoke(\n",
    "    path=\"/\",\n",
    "    body={\"url\" : \"https://abcnews.go.com/Politics/jan-committee-trumps-testimony-circus-cheney/story?id=91963586\",\n",
    "          \"filter_article\" : False}\n",
    ")"
   ]
  },
  {
   "cell_type": "markdown",
   "metadata": {},
   "source": [
    "### Define KV Table Schema for Dashboard\n",
    "While a schema is not required to write records to a table, it is required for the table to be displayed in a Grafana dashboard."
   ]
  },
  {
   "cell_type": "code",
   "execution_count": null,
   "metadata": {},
   "outputs": [],
   "source": [
    "if os.environ.get('V3IO_ACCESS_KEY') :\n",
    "\n",
    "    print (\"creating key value schema\")\n",
    "\n",
    "    import v3io.dataplane\n",
    "\n",
    "    v3io_client = v3io.dataplane.Client()\n",
    "\n",
    "    v3io_client.kv.create_schema(\n",
    "        container=container,\n",
    "        table_path=table_path,\n",
    "        key=key,\n",
    "        fields = [\n",
    "            {'name': 'url',\n",
    "             'type': 'string',\n",
    "             'nullable': False},\n",
    "            {'name': 'filter_article',\n",
    "             'type': 'boolean',\n",
    "             'nullable': False},\n",
    "            {'name': 'title',\n",
    "             'type': 'string',\n",
    "             'nullable': False},\n",
    "            {'name': 'authors',\n",
    "             'type': 'string',\n",
    "             'nullable': False},\n",
    "            {'name': 'publish_date',\n",
    "             'type': 'string',\n",
    "             'nullable': False},\n",
    "            {'name': 'original_text',\n",
    "             'type': 'string',\n",
    "             'nullable': False},\n",
    "            {'name': 'summarized_text',\n",
    "             'type': 'string',\n",
    "             'nullable': False},\n",
    "            {'name': 'keywords',\n",
    "             'type': 'string',\n",
    "             'nullable': False}\n",
    "        ]\n",
    "    )"
   ]
  },
  {
   "cell_type": "markdown",
   "metadata": {},
   "source": [
    "### View Dashboard"
   ]
  },
  {
   "cell_type": "raw",
   "metadata": {},
   "source": [
    "After using the pipeline, we will be able to visualize the article summary, keywords, and metadata in a Grafana dashboard. The JSON file for the dashboard is available under `grafana_dashboard.json`.\n",
    "\n",
    "After importing into Grafana and running the pipeline above, the dashboard will look something like the following:\n",
    "![](./dashboard_preview.png)"
   ]
  }
 ],
 "metadata": {
  "kernelspec": {
   "display_name": "Python 3 (ipykernel)",
   "language": "python",
   "name": "python3"
  },
  "language_info": {
   "codemirror_mode": {
    "name": "ipython",
    "version": 3
   },
   "file_extension": ".py",
   "mimetype": "text/x-python",
   "name": "python",
   "nbconvert_exporter": "python",
   "pygments_lexer": "ipython3",
   "version": "3.9.13"
  }
 },
 "nbformat": 4,
 "nbformat_minor": 4
}
