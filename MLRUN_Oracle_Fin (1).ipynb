{
 "cells": [
  {
   "cell_type": "markdown",
   "id": "fa207c8f-d4b1-44dc-9aa0-ed800915d326",
   "metadata": {},
   "source": [
    "# Getting Data From Oracle"
   ]
  },
  {
   "cell_type": "code",
   "execution_count": 1,
   "id": "115982a5-98e9-4860-a63b-a471a33efc44",
   "metadata": {},
   "outputs": [
    {
     "name": "stdout",
     "output_type": "stream",
     "text": [
      "> 2023-09-28 14:08:07,407 [info] Loading project from path: {'project_name': 'oracle-npra', 'path': './'}\n",
      "> 2023-09-28 14:08:07,782 [info] Project loaded successfully: {'project_name': 'oracle-npra', 'path': './', 'stored_in_db': True}\n"
     ]
    }
   ],
   "source": [
    "import mlrun\n",
    "project = mlrun.get_or_create_project(\"oracle-npra\", \"./\", user_project=True)"
   ]
  },
  {
   "cell_type": "code",
   "execution_count": 2,
   "id": "dba5b47f-ab63-4a79-904c-740f18ad101d",
   "metadata": {},
   "outputs": [
    {
     "name": "stdout",
     "output_type": "stream",
     "text": [
      "Collecting oracledb\n",
      "  Downloading oracledb-1.4.1-cp39-cp39-manylinux_2_17_x86_64.manylinux2014_x86_64.whl (8.6 MB)\n",
      "\u001b[2K     \u001b[90m━━━━━━━━━━━━━━━━━━━━━━━━━━━━━━━━━━━━━━━━\u001b[0m \u001b[32m8.6/8.6 MB\u001b[0m \u001b[31m6.1 MB/s\u001b[0m eta \u001b[36m0:00:00\u001b[0m00:01\u001b[0m00:01\u001b[0m\n",
      "\u001b[?25hRequirement already satisfied: cryptography>=3.2.1 in /opt/conda/lib/python3.9/site-packages (from oracledb) (38.0.1)\n",
      "Requirement already satisfied: cffi>=1.12 in /opt/conda/lib/python3.9/site-packages (from cryptography>=3.2.1->oracledb) (1.15.1)\n",
      "Requirement already satisfied: pycparser in /opt/conda/lib/python3.9/site-packages (from cffi>=1.12->cryptography>=3.2.1->oracledb) (2.21)\n",
      "Installing collected packages: oracledb\n",
      "Successfully installed oracledb-1.4.1\n",
      "\n",
      "\u001b[1m[\u001b[0m\u001b[34;49mnotice\u001b[0m\u001b[1;39;49m]\u001b[0m\u001b[39;49m A new release of pip available: \u001b[0m\u001b[31;49m22.3.1\u001b[0m\u001b[39;49m -> \u001b[0m\u001b[32;49m23.2.1\u001b[0m\n",
      "\u001b[1m[\u001b[0m\u001b[34;49mnotice\u001b[0m\u001b[1;39;49m]\u001b[0m\u001b[39;49m To update, run: \u001b[0m\u001b[32;49mpip install --upgrade pip\u001b[0m\n"
     ]
    }
   ],
   "source": [
    "!pip install oracledb"
   ]
  },
  {
   "cell_type": "code",
   "execution_count": 3,
   "id": "4206e5af-e925-4580-bce2-289d8b0c4aa6",
   "metadata": {},
   "outputs": [
    {
     "ename": "DatabaseError",
     "evalue": "ORA-00942: table or view does not exist\nHelp: https://docs.oracle.com/error-help/db/ora-00942/",
     "output_type": "error",
     "traceback": [
      "\u001b[0;31m---------------------------------------------------------------------------\u001b[0m",
      "\u001b[0;31mDatabaseError\u001b[0m                             Traceback (most recent call last)",
      "Cell \u001b[0;32mIn [3], line 19\u001b[0m\n\u001b[1;32m     16\u001b[0m select_sql \u001b[38;5;241m=\u001b[39m \u001b[38;5;124m\"\u001b[39m\u001b[38;5;124mSELECT * FROM NPRA_IMPORT\u001b[39m\u001b[38;5;124m\"\u001b[39m\n\u001b[1;32m     18\u001b[0m \u001b[38;5;66;03m# Execute the SQL statement to fetch data\u001b[39;00m\n\u001b[0;32m---> 19\u001b[0m \u001b[43mcursor\u001b[49m\u001b[38;5;241;43m.\u001b[39;49m\u001b[43mexecute\u001b[49m\u001b[43m(\u001b[49m\u001b[43mselect_sql\u001b[49m\u001b[43m)\u001b[49m\n\u001b[1;32m     21\u001b[0m \u001b[38;5;66;03m# Fetch all rows of data\u001b[39;00m\n\u001b[1;32m     22\u001b[0m rows \u001b[38;5;241m=\u001b[39m cursor\u001b[38;5;241m.\u001b[39mfetchall()\n",
      "File \u001b[0;32m/opt/conda/lib/python3.9/site-packages/oracledb/cursor.py:383\u001b[0m, in \u001b[0;36mCursor.execute\u001b[0;34m(self, statement, parameters, **keyword_parameters)\u001b[0m\n\u001b[1;32m    381\u001b[0m \u001b[38;5;28;01mif\u001b[39;00m parameters \u001b[38;5;129;01mis\u001b[39;00m \u001b[38;5;129;01mnot\u001b[39;00m \u001b[38;5;28;01mNone\u001b[39;00m:\n\u001b[1;32m    382\u001b[0m     impl\u001b[38;5;241m.\u001b[39mbind_one(\u001b[38;5;28mself\u001b[39m, parameters)\n\u001b[0;32m--> 383\u001b[0m \u001b[43mimpl\u001b[49m\u001b[38;5;241;43m.\u001b[39;49m\u001b[43mexecute\u001b[49m\u001b[43m(\u001b[49m\u001b[38;5;28;43mself\u001b[39;49m\u001b[43m)\u001b[49m\n\u001b[1;32m    384\u001b[0m \u001b[38;5;28;01mif\u001b[39;00m impl\u001b[38;5;241m.\u001b[39mfetch_vars \u001b[38;5;129;01mis\u001b[39;00m \u001b[38;5;129;01mnot\u001b[39;00m \u001b[38;5;28;01mNone\u001b[39;00m:\n\u001b[1;32m    385\u001b[0m     \u001b[38;5;28;01mreturn\u001b[39;00m \u001b[38;5;28mself\u001b[39m\n",
      "File \u001b[0;32msrc/oracledb/impl/thin/cursor.pyx:132\u001b[0m, in \u001b[0;36moracledb.thin_impl.ThinCursorImpl.execute\u001b[0;34m()\u001b[0m\n",
      "File \u001b[0;32msrc/oracledb/impl/thin/protocol.pyx:420\u001b[0m, in \u001b[0;36moracledb.thin_impl.Protocol._process_single_message\u001b[0;34m()\u001b[0m\n",
      "File \u001b[0;32msrc/oracledb/impl/thin/protocol.pyx:421\u001b[0m, in \u001b[0;36moracledb.thin_impl.Protocol._process_single_message\u001b[0;34m()\u001b[0m\n",
      "File \u001b[0;32msrc/oracledb/impl/thin/protocol.pyx:414\u001b[0m, in \u001b[0;36moracledb.thin_impl.Protocol._process_message\u001b[0;34m()\u001b[0m\n",
      "\u001b[0;31mDatabaseError\u001b[0m: ORA-00942: table or view does not exist\nHelp: https://docs.oracle.com/error-help/db/ora-00942/"
     ]
    }
   ],
   "source": [
    "import oracledb\n",
    "import pandas as pd\n",
    "\n",
    "username = \"C##harish\"\n",
    "password = \"harish1438\"\n",
    "host = \"192.168.31.75\"\n",
    "port = \"1521\"\n",
    "service_name = \"xe\"\n",
    "    \n",
    "conn = oracledb.connect(user=username, password=password, host=host, port=port, service_name=service_name)\n",
    "    \n",
    "# Create a cursor\n",
    "cursor = conn.cursor()\n",
    "\n",
    "# Define the SQL statement for selecting data\n",
    "select_sql = \"SELECT * FROM NPRA_IMPORT\"\n",
    "\n",
    "# Execute the SQL statement to fetch data\n",
    "cursor.execute(select_sql)\n",
    "\n",
    "# Fetch all rows of data\n",
    "rows = cursor.fetchall()\n",
    "    \n",
    "# Define the SQL statement to fetch column names for a table\n",
    "table_name = 'NPRA_IMPORT'\n",
    "select_sql2 = f\"SELECT column_name FROM all_tab_columns WHERE table_name = '{table_name}'\"\n",
    "\n",
    "# Execute the SQL statement to fetch data\n",
    "cursor.execute(select_sql2)\n",
    "\n",
    "# Fetch all rows of data\n",
    "columns = cursor.fetchall()\n",
    "        \n",
    "# Define column names\n",
    "column_names = [column[0].lower() for column in columns]\n",
    "\n",
    "# Create a DataFrame from the fetched rows with column names\n",
    "df = pd.DataFrame(rows, columns=column_names)\n",
    "\n",
    "df.head()"
   ]
  },
  {
   "cell_type": "code",
   "execution_count": 8,
   "id": "d2ebb49d-2979-4790-9e3b-3524d31bb1cf",
   "metadata": {},
   "outputs": [
    {
     "name": "stdout",
     "output_type": "stream",
     "text": [
      "Writing data-prep-oracle-db.py\n"
     ]
    }
   ],
   "source": [
    "%%writefile data-oracle.py\n",
    "\n",
    "import pandas as pd\n",
    "from sklearn.preprocessing import LabelEncoder\n",
    "from sklearn.feature_selection import SelectKBest, f_classif\n",
    "import oracledb\n",
    "\n",
    "import mlrun\n",
    "\n",
    "def get_oracle_data():\n",
    "    # Connection details\n",
    "    username = \"C##harish\"\n",
    "    password = \"harish1438\"\n",
    "    host = \"192.168.31.75\"\n",
    "    port = \"1521\"\n",
    "    service_name = \"xe\"\n",
    "    \n",
    "    conn = oracledb.connect(user=username, password=password, host=host, port=port, service_name=service_name)\n",
    "    \n",
    "    # Create a cursor\n",
    "    cursor = conn.cursor()\n",
    "\n",
    "    # Define the SQL statement for selecting data\n",
    "    select_sql = \"SELECT * FROM NPRA_IMPORT\"\n",
    "\n",
    "    # Execute the SQL statement to fetch data\n",
    "    cursor.execute(select_sql)\n",
    "\n",
    "    # Fetch all rows of data\n",
    "    rows = cursor.fetchall()\n",
    "    \n",
    "    # Define the SQL statement to fetch column names for a table\n",
    "    table_name = 'NPRA_IMPORT'\n",
    "    select_sql2 = f\"SELECT column_name FROM all_tab_columns WHERE table_name = '{table_name}'\"\n",
    "\n",
    "    # Execute the SQL statement to fetch data\n",
    "    cursor.execute(select_sql2)\n",
    "\n",
    "    # Fetch all rows of data\n",
    "    columns = cursor.fetchall()\n",
    "        \n",
    "    # Define column names\n",
    "    column_names = [column[0].lower() for column in columns]\n",
    "\n",
    "    # Create a DataFrame from the fetched rows with column names\n",
    "    df = pd.DataFrame(rows, columns=column_names)\n",
    "\n",
    "    return df\n",
    "\n",
    "def load_data(df):\n",
    "    df.drop(\"customer_id\", axis=1, inplace=True)\n",
    "    df.drop_duplicates(inplace=True)\n",
    "    df.dropna(axis=0, inplace=True)\n",
    "    return df\n",
    "\n",
    "\n",
    "def remove_outliers_iqr(df, col):\n",
    "    Q1 = df[col].quantile(0.25)\n",
    "    Q3 = df[col].quantile(0.75)\n",
    "    IQR = Q3 - Q1\n",
    "\n",
    "    lower_bound = Q1 - 1.5 * IQR\n",
    "    upper_bound = Q3 + 1.5 * IQR\n",
    "\n",
    "    df = df[(df[col] >= lower_bound)] \n",
    "    df = df[(df[col] <= upper_bound)]\n",
    "    return df\n",
    "\n",
    "\n",
    "def label_encode_categorical_columns(df):\n",
    "    le = LabelEncoder()\n",
    "    for col in df.select_dtypes(include='object'):\n",
    "        df[col] = le.fit_transform(df[col])\n",
    "    return df\n",
    "\n",
    "\n",
    "def preprocess_data(data):\n",
    "    can_have_outlier = [\"person_age\",\"person_income\",\"person_emp_length\",\"cb_person_cred_hist_length\",\"loan_amnt\"]\n",
    "    for col in can_have_outlier:\n",
    "        data = remove_outliers_iqr(data, col)\n",
    "    preprocessed_data = label_encode_categorical_columns(data) \n",
    "    return preprocessed_data\n",
    "\n",
    "\n",
    "def data_balance(new_df):\n",
    "    # Divide by class\n",
    "    df_class_0 = new_df[new_df['loan_status'] == 0]\n",
    "    df_class_1 = new_df[new_df['loan_status'] == 1]\n",
    "    count_class_0, count_class_1 = new_df['loan_status'].value_counts()\n",
    "    # random over sampling\n",
    "    df_class_1_over = df_class_1.sample(count_class_0, replace=True)\n",
    "    new_df = pd.concat([df_class_0, df_class_1_over], axis=0)\n",
    "    return new_df\n",
    "\n",
    "\n",
    "@mlrun.handler(outputs=[\"dataset\", \"label_column\"])\n",
    "def credit_risk_dataset_generator():\n",
    "    \"\"\"\n",
    "    A function which generates the credit risk dataset\n",
    "    \"\"\"\n",
    "    dataset = get_oracle_data()\n",
    "    data = load_data(dataset)\n",
    "    preprocessed_data = preprocess_data(data)\n",
    "    for_model_df = data_balance(preprocessed_data)\n",
    "\n",
    "    return for_model_df, \"loan_status\"\n"
   ]
  },
  {
   "cell_type": "code",
   "execution_count": 9,
   "id": "57f303d3-997c-4c6e-9dc7-5575d57d0eae",
   "metadata": {},
   "outputs": [
    {
     "name": "stdout",
     "output_type": "stream",
     "text": [
      "> 2023-09-28 10:17:18,819 [warning] Failed to add git metadata, ignore if path is not part of a git repo.: {'path': './', 'error': '/home/jovyan/work'}\n"
     ]
    },
    {
     "data": {
      "text/plain": [
       "<mlrun.runtimes.kubejob.KubejobRuntime at 0x7f52c0f7f700>"
      ]
     },
     "execution_count": 9,
     "metadata": {},
     "output_type": "execute_result"
    }
   ],
   "source": [
    "project.set_function(\n",
    "    \"data-prep-oracle-db.py\",\n",
    "    name=\"data-prep2\",\n",
    "    kind=\"job\",\n",
    "    image=\"mlrun/mlrun\",\n",
    "    handler=\"credit_risk_dataset_generator\",\n",
    "    requirements=[\"mlrun[complete]\", \"scikit-learn~=1.3.0\", \"oracledb\"],\n",
    ")"
   ]
  },
  {
   "cell_type": "code",
   "execution_count": 10,
   "id": "37568c03-8c87-418e-bec5-683645a7e9d3",
   "metadata": {},
   "outputs": [
    {
     "name": "stdout",
     "output_type": "stream",
     "text": [
      "> 2023-09-28 10:17:24,476 [warning] it is recommended to use k8s secret (specify secret_name), specifying the aws_access_key/aws_secret_key directly is unsafe\n",
      "> 2023-09-28 10:17:24,502 [info] Storing function: {'name': 'data-prep2-credit-risk-dataset-generator', 'uid': '60e9f12df5844a48ad4ebcfe6f50ae9e', 'db': 'http://mlrun-api:8080'}\n"
     ]
    },
    {
     "data": {
      "text/html": [
       "<style>\n",
       ".dictlist {\n",
       "  background-color: #4EC64B;\n",
       "  text-align: center;\n",
       "  margin: 4px;\n",
       "  border-radius: 3px; padding: 0px 3px 1px 3px; display: inline-block;}\n",
       ".artifact {\n",
       "  cursor: pointer;\n",
       "  background-color: #4EC64B;\n",
       "  text-align: left;\n",
       "  margin: 4px; border-radius: 3px; padding: 0px 3px 1px 3px; display: inline-block;\n",
       "}\n",
       "div.block.hidden {\n",
       "  display: none;\n",
       "}\n",
       ".clickable {\n",
       "  cursor: pointer;\n",
       "}\n",
       ".ellipsis {\n",
       "  display: inline-block;\n",
       "  max-width: 60px;\n",
       "  white-space: nowrap;\n",
       "  overflow: hidden;\n",
       "  text-overflow: ellipsis;\n",
       "}\n",
       ".master-wrapper {\n",
       "  display: flex;\n",
       "  flex-flow: row nowrap;\n",
       "  justify-content: flex-start;\n",
       "  align-items: stretch;\n",
       "}\n",
       ".master-tbl {\n",
       "  flex: 3\n",
       "}\n",
       ".master-wrapper > div {\n",
       "  margin: 4px;\n",
       "  padding: 10px;\n",
       "}\n",
       "iframe.fileview {\n",
       "  border: 0 none;\n",
       "  height: 100%;\n",
       "  width: 100%;\n",
       "  white-space: pre-wrap;\n",
       "}\n",
       ".pane-header-title {\n",
       "  width: 80%;\n",
       "  font-weight: 500;\n",
       "}\n",
       ".pane-header {\n",
       "  line-height: 1;\n",
       "  background-color: #4EC64B;\n",
       "  padding: 3px;\n",
       "}\n",
       ".pane-header .close {\n",
       "  font-size: 20px;\n",
       "  font-weight: 700;\n",
       "  float: right;\n",
       "  margin-top: -5px;\n",
       "}\n",
       ".master-wrapper .right-pane {\n",
       "  border: 1px inset silver;\n",
       "  width: 40%;\n",
       "  min-height: 300px;\n",
       "  flex: 3\n",
       "  min-width: 500px;\n",
       "}\n",
       ".master-wrapper * {\n",
       "  box-sizing: border-box;\n",
       "}\n",
       "</style><script>\n",
       "function copyToClipboard(fld) {\n",
       "    if (document.queryCommandSupported && document.queryCommandSupported('copy')) {\n",
       "        var textarea = document.createElement('textarea');\n",
       "        textarea.textContent = fld.innerHTML;\n",
       "        textarea.style.position = 'fixed';\n",
       "        document.body.appendChild(textarea);\n",
       "        textarea.select();\n",
       "\n",
       "        try {\n",
       "            return document.execCommand('copy'); // Security exception may be thrown by some browsers.\n",
       "        } catch (ex) {\n",
       "\n",
       "        } finally {\n",
       "            document.body.removeChild(textarea);\n",
       "        }\n",
       "    }\n",
       "}\n",
       "function expandPanel(el) {\n",
       "  const panelName = \"#\" + el.getAttribute('paneName');\n",
       "  console.log(el.title);\n",
       "\n",
       "  document.querySelector(panelName + \"-title\").innerHTML = el.title\n",
       "  iframe = document.querySelector(panelName + \"-body\");\n",
       "\n",
       "  const tblcss = `<style> body { font-family: Arial, Helvetica, sans-serif;}\n",
       "    #csv { margin-bottom: 15px; }\n",
       "    #csv table { border-collapse: collapse;}\n",
       "    #csv table td { padding: 4px 8px; border: 1px solid silver;} </style>`;\n",
       "\n",
       "  function csvToHtmlTable(str) {\n",
       "    return '<div id=\"csv\"><table><tr><td>' +  str.replace(/[\\n\\r]+$/g, '').replace(/[\\n\\r]+/g, '</td></tr><tr><td>')\n",
       "      .replace(/,/g, '</td><td>') + '</td></tr></table></div>';\n",
       "  }\n",
       "\n",
       "  function reqListener () {\n",
       "    if (el.title.endsWith(\".csv\")) {\n",
       "      iframe.setAttribute(\"srcdoc\", tblcss + csvToHtmlTable(this.responseText));\n",
       "    } else {\n",
       "      iframe.setAttribute(\"srcdoc\", this.responseText);\n",
       "    }\n",
       "    console.log(this.responseText);\n",
       "  }\n",
       "\n",
       "  const oReq = new XMLHttpRequest();\n",
       "  oReq.addEventListener(\"load\", reqListener);\n",
       "  oReq.open(\"GET\", el.title);\n",
       "  oReq.send();\n",
       "\n",
       "\n",
       "  //iframe.src = el.title;\n",
       "  const resultPane = document.querySelector(panelName + \"-pane\");\n",
       "  if (resultPane.classList.contains(\"hidden\")) {\n",
       "    resultPane.classList.remove(\"hidden\");\n",
       "  }\n",
       "}\n",
       "function closePanel(el) {\n",
       "  const panelName = \"#\" + el.getAttribute('paneName')\n",
       "  const resultPane = document.querySelector(panelName + \"-pane\");\n",
       "  if (!resultPane.classList.contains(\"hidden\")) {\n",
       "    resultPane.classList.add(\"hidden\");\n",
       "  }\n",
       "}\n",
       "\n",
       "</script>\n",
       "<div class=\"master-wrapper\">\n",
       "  <div class=\"block master-tbl\"><div>\n",
       "<style scoped>\n",
       "    .dataframe tbody tr th:only-of-type {\n",
       "        vertical-align: middle;\n",
       "    }\n",
       "\n",
       "    .dataframe tbody tr th {\n",
       "        vertical-align: top;\n",
       "    }\n",
       "\n",
       "    .dataframe thead th {\n",
       "        text-align: right;\n",
       "    }\n",
       "</style>\n",
       "<table border=\"1\" class=\"dataframe\">\n",
       "  <thead>\n",
       "    <tr style=\"text-align: right;\">\n",
       "      <th>project</th>\n",
       "      <th>uid</th>\n",
       "      <th>iter</th>\n",
       "      <th>start</th>\n",
       "      <th>state</th>\n",
       "      <th>name</th>\n",
       "      <th>labels</th>\n",
       "      <th>inputs</th>\n",
       "      <th>parameters</th>\n",
       "      <th>results</th>\n",
       "      <th>artifacts</th>\n",
       "    </tr>\n",
       "  </thead>\n",
       "  <tbody>\n",
       "    <tr>\n",
       "      <td>oraclenpra</td>\n",
       "      <td><div title=\"60e9f12df5844a48ad4ebcfe6f50ae9e\"><a href=\"http://192.168.1.6:30060/mlrun/projects/oraclenpra/jobs/monitor/60e9f12df5844a48ad4ebcfe6f50ae9e/overview\" target=\"_blank\" >...6f50ae9e</a></div></td>\n",
       "      <td>0</td>\n",
       "      <td>Sep 28 10:17:24</td>\n",
       "      <td>completed</td>\n",
       "      <td>data-prep2-credit-risk-dataset-generator</td>\n",
       "      <td><div class=\"dictlist\">kind=</div><div class=\"dictlist\">owner=jovyan</div><div class=\"dictlist\">host=mlrun-jupyter-66659dc6c9-zdvjv</div></td>\n",
       "      <td></td>\n",
       "      <td></td>\n",
       "      <td><div class=\"dictlist\">label_column=loan_status</div></td>\n",
       "      <td><div title=\"s3://mlrun/projects/oraclenpra/artifacts/data-prep2-credit-risk-dataset-generator/0/dataset.parquet\">dataset</div></td>\n",
       "    </tr>\n",
       "  </tbody>\n",
       "</table>\n",
       "</div></div>\n",
       "  <div id=\"resultad6e9608-pane\" class=\"right-pane block hidden\">\n",
       "    <div class=\"pane-header\">\n",
       "      <span id=\"resultad6e9608-title\" class=\"pane-header-title\">Title</span>\n",
       "      <span onclick=\"closePanel(this)\" paneName=\"resultad6e9608\" class=\"close clickable\">&times;</span>\n",
       "    </div>\n",
       "    <iframe class=\"fileview\" id=\"resultad6e9608-body\"></iframe>\n",
       "  </div>\n",
       "</div>\n"
      ],
      "text/plain": [
       "<IPython.core.display.HTML object>"
      ]
     },
     "metadata": {},
     "output_type": "display_data"
    },
    {
     "name": "stdout",
     "output_type": "stream",
     "text": [
      "\n"
     ]
    },
    {
     "data": {
      "text/html": [
       "<b> > to track results use the .show() or .logs() methods  or <a href=\"http://192.168.1.6:30060/mlrun/projects/oraclenpra/jobs/monitor/60e9f12df5844a48ad4ebcfe6f50ae9e/overview\" target=\"_blank\">click here</a> to open in UI</b>"
      ],
      "text/plain": [
       "<IPython.core.display.HTML object>"
      ]
     },
     "metadata": {},
     "output_type": "display_data"
    },
    {
     "name": "stdout",
     "output_type": "stream",
     "text": [
      "> 2023-09-28 10:17:27,547 [info] Run execution finished: {'status': 'completed', 'name': 'data-prep2-credit-risk-dataset-generator'}\n"
     ]
    }
   ],
   "source": [
    "gen_data_run = project.run_function(\"data-prep2\", local=True)"
   ]
  },
  {
   "cell_type": "code",
   "execution_count": 11,
   "id": "9beba636-b68b-4654-b1ab-7d0359cdad3b",
   "metadata": {},
   "outputs": [
    {
     "name": "stdout",
     "output_type": "stream",
     "text": [
      "Writing trainer-oracle-db.py\n"
     ]
    }
   ],
   "source": [
    "%%writefile trainer-oracle-db.py\n",
    "\n",
    "import pandas as pd\n",
    "\n",
    "from sklearn import ensemble\n",
    "from sklearn.model_selection import train_test_split\n",
    "\n",
    "import mlrun\n",
    "from mlrun.frameworks.sklearn import apply_mlrun\n",
    "\n",
    "\n",
    "@mlrun.handler()\n",
    "def train(\n",
    "    dataset: pd.DataFrame,\n",
    "    label_column: str = \"loan_status\",\n",
    "    n_estimators: int = 100,\n",
    "    learning_rate: float = 0.1,\n",
    "    max_depth: int = 3,\n",
    "    model_name: str = \"loan_status_classifier\",\n",
    "):\n",
    "    # Initialize the x & y data\n",
    "    x = dataset.drop(label_column, axis=1)\n",
    "    y = dataset[label_column]\n",
    "\n",
    "    # Train/Test split the dataset\n",
    "    x_train, x_test, y_train, y_test = train_test_split(\n",
    "        x, y, test_size=0.2, random_state=42\n",
    "    )\n",
    "\n",
    "    # Pick an ideal ML model\n",
    "    model = ensemble.GradientBoostingClassifier(\n",
    "        n_estimators=n_estimators, learning_rate=learning_rate, max_depth=max_depth\n",
    "    )\n",
    "\n",
    "    # -------------------- The only line you need to add for MLOps -------------------------\n",
    "    # Wraps the model with MLOps (test set is provided for analysis & accuracy measurements)\n",
    "    apply_mlrun(model=model, model_name=model_name, x_test=x_test, y_test=y_test)\n",
    "    # --------------------------------------------------------------------------------------\n",
    "\n",
    "    # Train the model\n",
    "    model.fit(x_train, y_train)"
   ]
  },
  {
   "cell_type": "code",
   "execution_count": 12,
   "id": "aa42858f-e939-42f6-8b6a-5bb6482898a4",
   "metadata": {},
   "outputs": [
    {
     "name": "stdout",
     "output_type": "stream",
     "text": [
      "> 2023-09-28 10:17:34,666 [warning] Failed to add git metadata, ignore if path is not part of a git repo.: {'path': './', 'error': '/home/jovyan/work'}\n"
     ]
    }
   ],
   "source": [
    "trainer = project.set_function(\n",
    "    \"trainer-oracle-db.py\", name=\"trainer2\", kind=\"job\", image=\"mlrun/mlrun\", handler=\"train\"\n",
    ")"
   ]
  },
  {
   "cell_type": "code",
   "execution_count": 13,
   "id": "3b80a30f-9310-4399-a2d1-634c11848361",
   "metadata": {},
   "outputs": [
    {
     "name": "stdout",
     "output_type": "stream",
     "text": [
      "> 2023-09-28 10:17:35,755 [warning] it is recommended to use k8s secret (specify secret_name), specifying the aws_access_key/aws_secret_key directly is unsafe\n",
      "> 2023-09-28 10:17:35,769 [info] Storing function: {'name': 'trainer2-train', 'uid': '493d50eef02244608df2b24e1bcf8ba7', 'db': 'http://mlrun-api:8080'}\n",
      "> 2023-09-28 10:17:35,990 [info] Job is running in the background, pod: trainer2-train-88skh\n",
      "> 2023-09-28 10:22:13,745 [info] best iteration=9, used criteria max.accuracy\n",
      "> 2023-09-28 10:22:14,583 [info] Run execution finished: {'status': 'completed', 'name': 'trainer2-train'}\n",
      "final state: completed\n"
     ]
    },
    {
     "data": {
      "text/html": [
       "<style>\n",
       ".dictlist {\n",
       "  background-color: #4EC64B;\n",
       "  text-align: center;\n",
       "  margin: 4px;\n",
       "  border-radius: 3px; padding: 0px 3px 1px 3px; display: inline-block;}\n",
       ".artifact {\n",
       "  cursor: pointer;\n",
       "  background-color: #4EC64B;\n",
       "  text-align: left;\n",
       "  margin: 4px; border-radius: 3px; padding: 0px 3px 1px 3px; display: inline-block;\n",
       "}\n",
       "div.block.hidden {\n",
       "  display: none;\n",
       "}\n",
       ".clickable {\n",
       "  cursor: pointer;\n",
       "}\n",
       ".ellipsis {\n",
       "  display: inline-block;\n",
       "  max-width: 60px;\n",
       "  white-space: nowrap;\n",
       "  overflow: hidden;\n",
       "  text-overflow: ellipsis;\n",
       "}\n",
       ".master-wrapper {\n",
       "  display: flex;\n",
       "  flex-flow: row nowrap;\n",
       "  justify-content: flex-start;\n",
       "  align-items: stretch;\n",
       "}\n",
       ".master-tbl {\n",
       "  flex: 3\n",
       "}\n",
       ".master-wrapper > div {\n",
       "  margin: 4px;\n",
       "  padding: 10px;\n",
       "}\n",
       "iframe.fileview {\n",
       "  border: 0 none;\n",
       "  height: 100%;\n",
       "  width: 100%;\n",
       "  white-space: pre-wrap;\n",
       "}\n",
       ".pane-header-title {\n",
       "  width: 80%;\n",
       "  font-weight: 500;\n",
       "}\n",
       ".pane-header {\n",
       "  line-height: 1;\n",
       "  background-color: #4EC64B;\n",
       "  padding: 3px;\n",
       "}\n",
       ".pane-header .close {\n",
       "  font-size: 20px;\n",
       "  font-weight: 700;\n",
       "  float: right;\n",
       "  margin-top: -5px;\n",
       "}\n",
       ".master-wrapper .right-pane {\n",
       "  border: 1px inset silver;\n",
       "  width: 40%;\n",
       "  min-height: 300px;\n",
       "  flex: 3\n",
       "  min-width: 500px;\n",
       "}\n",
       ".master-wrapper * {\n",
       "  box-sizing: border-box;\n",
       "}\n",
       "</style><script>\n",
       "function copyToClipboard(fld) {\n",
       "    if (document.queryCommandSupported && document.queryCommandSupported('copy')) {\n",
       "        var textarea = document.createElement('textarea');\n",
       "        textarea.textContent = fld.innerHTML;\n",
       "        textarea.style.position = 'fixed';\n",
       "        document.body.appendChild(textarea);\n",
       "        textarea.select();\n",
       "\n",
       "        try {\n",
       "            return document.execCommand('copy'); // Security exception may be thrown by some browsers.\n",
       "        } catch (ex) {\n",
       "\n",
       "        } finally {\n",
       "            document.body.removeChild(textarea);\n",
       "        }\n",
       "    }\n",
       "}\n",
       "function expandPanel(el) {\n",
       "  const panelName = \"#\" + el.getAttribute('paneName');\n",
       "  console.log(el.title);\n",
       "\n",
       "  document.querySelector(panelName + \"-title\").innerHTML = el.title\n",
       "  iframe = document.querySelector(panelName + \"-body\");\n",
       "\n",
       "  const tblcss = `<style> body { font-family: Arial, Helvetica, sans-serif;}\n",
       "    #csv { margin-bottom: 15px; }\n",
       "    #csv table { border-collapse: collapse;}\n",
       "    #csv table td { padding: 4px 8px; border: 1px solid silver;} </style>`;\n",
       "\n",
       "  function csvToHtmlTable(str) {\n",
       "    return '<div id=\"csv\"><table><tr><td>' +  str.replace(/[\\n\\r]+$/g, '').replace(/[\\n\\r]+/g, '</td></tr><tr><td>')\n",
       "      .replace(/,/g, '</td><td>') + '</td></tr></table></div>';\n",
       "  }\n",
       "\n",
       "  function reqListener () {\n",
       "    if (el.title.endsWith(\".csv\")) {\n",
       "      iframe.setAttribute(\"srcdoc\", tblcss + csvToHtmlTable(this.responseText));\n",
       "    } else {\n",
       "      iframe.setAttribute(\"srcdoc\", this.responseText);\n",
       "    }\n",
       "    console.log(this.responseText);\n",
       "  }\n",
       "\n",
       "  const oReq = new XMLHttpRequest();\n",
       "  oReq.addEventListener(\"load\", reqListener);\n",
       "  oReq.open(\"GET\", el.title);\n",
       "  oReq.send();\n",
       "\n",
       "\n",
       "  //iframe.src = el.title;\n",
       "  const resultPane = document.querySelector(panelName + \"-pane\");\n",
       "  if (resultPane.classList.contains(\"hidden\")) {\n",
       "    resultPane.classList.remove(\"hidden\");\n",
       "  }\n",
       "}\n",
       "function closePanel(el) {\n",
       "  const panelName = \"#\" + el.getAttribute('paneName')\n",
       "  const resultPane = document.querySelector(panelName + \"-pane\");\n",
       "  if (!resultPane.classList.contains(\"hidden\")) {\n",
       "    resultPane.classList.add(\"hidden\");\n",
       "  }\n",
       "}\n",
       "\n",
       "</script>\n",
       "<div class=\"master-wrapper\">\n",
       "  <div class=\"block master-tbl\"><div>\n",
       "<style scoped>\n",
       "    .dataframe tbody tr th:only-of-type {\n",
       "        vertical-align: middle;\n",
       "    }\n",
       "\n",
       "    .dataframe tbody tr th {\n",
       "        vertical-align: top;\n",
       "    }\n",
       "\n",
       "    .dataframe thead th {\n",
       "        text-align: right;\n",
       "    }\n",
       "</style>\n",
       "<table border=\"1\" class=\"dataframe\">\n",
       "  <thead>\n",
       "    <tr style=\"text-align: right;\">\n",
       "      <th>project</th>\n",
       "      <th>uid</th>\n",
       "      <th>iter</th>\n",
       "      <th>start</th>\n",
       "      <th>state</th>\n",
       "      <th>name</th>\n",
       "      <th>labels</th>\n",
       "      <th>inputs</th>\n",
       "      <th>parameters</th>\n",
       "      <th>results</th>\n",
       "      <th>artifacts</th>\n",
       "    </tr>\n",
       "  </thead>\n",
       "  <tbody>\n",
       "    <tr>\n",
       "      <td>oraclenpra</td>\n",
       "      <td><div title=\"493d50eef02244608df2b24e1bcf8ba7\"><a href=\"http://192.168.1.6:30060/mlrun/projects/oraclenpra/jobs/monitor/493d50eef02244608df2b24e1bcf8ba7/overview\" target=\"_blank\" >...1bcf8ba7</a></div></td>\n",
       "      <td>0</td>\n",
       "      <td>Sep 28 10:17:42</td>\n",
       "      <td>completed</td>\n",
       "      <td>trainer2-train</td>\n",
       "      <td><div class=\"dictlist\">kind=job</div><div class=\"dictlist\">owner=jovyan</div><div class=\"dictlist\">mlrun/client_version=1.4.0</div><div class=\"dictlist\">mlrun/client_python_version=3.9.13</div></td>\n",
       "      <td><div title=\"store://artifacts/oraclenpra/data-prep2-credit-risk-dataset-generator_dataset:60e9f12df5844a48ad4ebcfe6f50ae9e\">dataset</div></td>\n",
       "      <td></td>\n",
       "      <td><div class=\"dictlist\">best_iteration=9</div><div class=\"dictlist\">accuracy=0.9826863249019343</div><div class=\"dictlist\">f1_score=0.9826980264936469</div><div class=\"dictlist\">precision_score=0.9805772862152684</div><div class=\"dictlist\">recall_score=0.9848279599024654</div></td>\n",
       "      <td><div title=\"s3://mlrun/projects/oraclenpra/artifacts/trainer2-train/9/feature-importance.html\">feature-importance</div><div title=\"s3://mlrun/projects/oraclenpra/artifacts/trainer2-train/9/test_set.parquet\">test_set</div><div title=\"s3://mlrun/projects/oraclenpra/artifacts/trainer2-train/9/confusion-matrix.html\">confusion-matrix</div><div title=\"s3://mlrun/projects/oraclenpra/artifacts/trainer2-train/9/roc-curves.html\">roc-curves</div><div title=\"s3://mlrun/projects/oraclenpra/artifacts/trainer2-train/9/calibration-curve.html\">calibration-curve</div><div title=\"s3://mlrun/projects/oraclenpra/artifacts/trainer2-train/9/model/\">model</div><div title=\"s3://mlrun/projects/oraclenpra/artifacts/trainer2-train/0/iteration_results.csv\">iteration_results</div><div title=\"s3://mlrun/projects/oraclenpra/artifacts/trainer2-train/0/parallel_coordinates.html\">parallel_coordinates</div></td>\n",
       "    </tr>\n",
       "  </tbody>\n",
       "</table>\n",
       "</div></div>\n",
       "  <div id=\"resultb1bf40b5-pane\" class=\"right-pane block hidden\">\n",
       "    <div class=\"pane-header\">\n",
       "      <span id=\"resultb1bf40b5-title\" class=\"pane-header-title\">Title</span>\n",
       "      <span onclick=\"closePanel(this)\" paneName=\"resultb1bf40b5\" class=\"close clickable\">&times;</span>\n",
       "    </div>\n",
       "    <iframe class=\"fileview\" id=\"resultb1bf40b5-body\"></iframe>\n",
       "  </div>\n",
       "</div>\n"
      ],
      "text/plain": [
       "<IPython.core.display.HTML object>"
      ]
     },
     "metadata": {},
     "output_type": "display_data"
    },
    {
     "name": "stdout",
     "output_type": "stream",
     "text": [
      "\n"
     ]
    },
    {
     "data": {
      "text/html": [
       "<b> > to track results use the .show() or .logs() methods  or <a href=\"http://192.168.1.6:30060/mlrun/projects/oraclenpra/jobs/monitor/493d50eef02244608df2b24e1bcf8ba7/overview\" target=\"_blank\">click here</a> to open in UI</b>"
      ],
      "text/plain": [
       "<IPython.core.display.HTML object>"
      ]
     },
     "metadata": {},
     "output_type": "display_data"
    },
    {
     "name": "stdout",
     "output_type": "stream",
     "text": [
      "> 2023-09-28 10:22:18,625 [info] Run execution finished: {'status': 'completed', 'name': 'trainer2-train'}\n"
     ]
    }
   ],
   "source": [
    "hp_tuning_run = project.run_function(\n",
    "    \"trainer2\",\n",
    "    inputs={\"dataset\": gen_data_run.outputs['dataset']},\n",
    "    hyperparams={\n",
    "        \"n_estimators\": [10, 100, 1000],\n",
    "        \"learning_rate\": [1e-1, 1e-3],\n",
    "        \"max_depth\": [2, 8],\n",
    "    },\n",
    "    selector=\"max.accuracy\",\n",
    ")"
   ]
  },
  {
   "cell_type": "code",
   "execution_count": 19,
   "id": "ceb99948-08d9-4801-8d68-5c433f4f1ec7",
   "metadata": {},
   "outputs": [
    {
     "data": {
      "text/plain": [
       "{'best_iteration': 9,\n",
       " 'accuracy': 0.9826863249019343,\n",
       " 'f1_score': 0.9826980264936469,\n",
       " 'precision_score': 0.9805772862152684,\n",
       " 'recall_score': 0.9848279599024654,\n",
       " 'feature-importance': 's3://mlrun/projects/oraclenpra/artifacts/trainer2-train/9/feature-importance.html',\n",
       " 'test_set': 'store://artifacts/oraclenpra/trainer2-train_test_set:493d50eef02244608df2b24e1bcf8ba7',\n",
       " 'confusion-matrix': 's3://mlrun/projects/oraclenpra/artifacts/trainer2-train/9/confusion-matrix.html',\n",
       " 'roc-curves': 's3://mlrun/projects/oraclenpra/artifacts/trainer2-train/9/roc-curves.html',\n",
       " 'calibration-curve': 's3://mlrun/projects/oraclenpra/artifacts/trainer2-train/9/calibration-curve.html',\n",
       " 'model': 'store://artifacts/oraclenpra/loan_status_classifier:493d50eef02244608df2b24e1bcf8ba7',\n",
       " 'iteration_results': 's3://mlrun/projects/oraclenpra/artifacts/trainer2-train/0/iteration_results.csv',\n",
       " 'parallel_coordinates': 'store://artifacts/oraclenpra/trainer2-train_parallel_coordinates:493d50eef02244608df2b24e1bcf8ba7'}"
      ]
     },
     "execution_count": 19,
     "metadata": {},
     "output_type": "execute_result"
    }
   ],
   "source": [
    "hp_tuning_run.outputs"
   ]
  },
  {
   "cell_type": "code",
   "execution_count": 14,
   "id": "62405c66-1d24-4ffc-a7d9-baa2fba8f039",
   "metadata": {},
   "outputs": [
    {
     "data": {
      "text/plain": [
       "<mlrun.projects.project.MlrunProject at 0x7f525d3920d0>"
      ]
     },
     "execution_count": 14,
     "metadata": {},
     "output_type": "execute_result"
    }
   ],
   "source": [
    "# Save the project in the db (and into the project.yaml file)\n",
    "project.save()"
   ]
  },
  {
   "cell_type": "code",
   "execution_count": 15,
   "id": "1a804de6-a211-4b58-83e0-2f26d38cb4ce",
   "metadata": {},
   "outputs": [
    {
     "name": "stdout",
     "output_type": "stream",
     "text": [
      "> 2023-09-28 10:22:18,720 [warning] it is recommended to use k8s secret (specify secret_name), specifying the aws_access_key/aws_secret_key directly is unsafe\n",
      "> 2023-09-28 10:22:18,727 [info] Starting remote function deploy\n",
      "2023-09-28 10:22:18  (info) Deploying function\n",
      "2023-09-28 10:22:18  (info) Building\n",
      "2023-09-28 10:22:19  (info) Staging files and preparing base images\n",
      "2023-09-28 10:22:19  (info) Building processor image\n",
      "2023-09-28 10:29:55  (info) Build complete\n",
      "2023-09-28 10:30:26  (info) Function deploy complete\n",
      "> 2023-09-28 10:30:33,145 [info] successfully deployed function: {'internal_invocation_urls': ['nuclio-oraclenpra-serving.mlrun.svc.cluster.local:8080'], 'external_invocation_urls': ['192.168.1.6:30162']}\n"
     ]
    },
    {
     "data": {
      "text/plain": [
       "DeployStatus(state=ready, outputs={'endpoint': 'http://192.168.1.6:30162', 'name': 'oraclenpra-serving'})"
      ]
     },
     "execution_count": 15,
     "metadata": {},
     "output_type": "execute_result"
    }
   ],
   "source": [
    "# Deploy the trained model as a serverless function\n",
    "serving_fn = mlrun.new_function(\"serving\", image=\"mlrun/mlrun\", kind=\"serving\")\n",
    "serving_fn.with_code(body=\" \")\n",
    "mlrun.deploy_function(\n",
    "    serving_fn,\n",
    "    models=[\n",
    "        {\n",
    "            \"key\": \"credit-classifier\",\n",
    "            \"model_path\": hp_tuning_run.outputs[\"model\"],\n",
    "            \"class_name\": 'mlrun.frameworks.sklearn.SklearnModelServer',\n",
    "        }\n",
    "    ],\n",
    ")"
   ]
  },
  {
   "cell_type": "code",
   "execution_count": 16,
   "id": "9332948f-b431-4470-876d-216484ff9c73",
   "metadata": {},
   "outputs": [],
   "source": [
    "# load the project in the current context dir\n",
    "project = mlrun.load_project(\"./\")"
   ]
  },
  {
   "cell_type": "code",
   "execution_count": 21,
   "id": "4eb8f9c2-d905-4da8-84c8-f7b7689db77f",
   "metadata": {},
   "outputs": [
    {
     "name": "stdout",
     "output_type": "stream",
     "text": [
      "Overwriting ./workflow-oracle.py\n"
     ]
    }
   ],
   "source": [
    "%%writefile './workflow-oracle.py'\n",
    "\n",
    "from kfp import dsl\n",
    "import mlrun\n",
    "\n",
    "# Create a Kubeflow Pipelines pipeline\n",
    "@dsl.pipeline(name=\"npra3-demo\")\n",
    "def pipeline(model_name):\n",
    "    # Run the ingestion function with the new image and params\n",
    "    ingest = mlrun.run_function(\n",
    "        \"data-prep2\",\n",
    "        name=\"get-oracle-data\",\n",
    "        outputs=[\"dataset\"],\n",
    "    )\n",
    "\n",
    "    # Train a model\n",
    "    train = mlrun.run_function(\n",
    "        \"trainer2\",\n",
    "        inputs={\"dataset\": ingest.outputs[\"dataset\"]},\n",
    "        hyperparams={\n",
    "            \"n_estimators\": [10, 100, 1000],\n",
    "            \"learning_rate\": [1e-1, 1e-3],\n",
    "            \"max_depth\": [2, 8],\n",
    "        },\n",
    "        selector=\"max.accuracy\",\n",
    "        outputs=[\"model\"],\n",
    "    )\n",
    "\n",
    "    # Deploy the trained model as a serverless function\n",
    "    serving_fn = mlrun.new_function(\"serving\", image=\"mlrun/mlrun\", kind=\"serving\")\n",
    "    serving_fn.with_code(body=\" \")\n",
    "    mlrun.deploy_function(\n",
    "        serving_fn,\n",
    "        models=[\n",
    "            {\n",
    "                \"key\": model_name,\n",
    "                \"model_path\": train.outputs[\"model\"],\n",
    "                \"class_name\": 'mlrun.frameworks.sklearn.SklearnModelServer',\n",
    "            }\n",
    "        ],\n",
    "    )"
   ]
  },
  {
   "cell_type": "code",
   "execution_count": 22,
   "id": "08b74c35-13bd-4703-8803-9ab8eeb9da53",
   "metadata": {},
   "outputs": [
    {
     "name": "stdout",
     "output_type": "stream",
     "text": [
      "> 2023-09-28 10:44:18,218 [warning] it is recommended to use k8s secret (specify secret_name), specifying the aws_access_key/aws_secret_key directly is unsafe\n",
      "> 2023-09-28 10:44:18,345 [warning] POST http://mlrun-api:8080/api/v1/projects/oraclenpra/pipelines request failed, http retries disabled for POST method.: {'exception_type': <class 'requests.exceptions.InvalidHeader'>, 'exception_message': 'Invalid leading whitespace, reserved character(s), or returncharacter(s) in header value: \"{\\'model_name\\': \\'credit-classifier\\', \\'dataset\\':        customer_id  person_age  person_income person_home_ownership  \\\\\\\\\\\\n0                1          22          59000                  RENT   \\\\n1                2          21           9600                   OWN   \\\\n2                3          25           9600              MORTGAGE   \\\\n3                4          23          65500                  RENT   \\\\n4                5          24          54400                  RENT   \\\\n...            ...         ...            ...                   ...   \\\\n32576        32577          57          53000              MORTGAGE   \\\\n32577        32578          54         120000              MORTGAGE   \\\\n32578        32579          65          76000                  RENT   \\\\n32579        32580          56         150000              MORTGAGE   \\\\n32580        32581          66          42000                  RENT   \\\\n\\\\n       person_emp_length      loan_intent loan_grade  loan_amnt  \\\\\\\\\\\\n0                  123.0         PERSONAL          D      35000   \\\\n1                    5.0        EDUCATION          B       1000   \\\\n2                    1.0          MEDICAL          C       5500   \\\\n3                    4.0          MEDICAL          C      35000   \\\\n4                    8.0          MEDICAL          C      35000   \\\\n...                  ...              ...        ...        ...   \\\\n32576                1.0         PERSONAL          C       5800   \\\\n32577                4.0         PERSONAL          A      17625   \\\\n32578                3.0  HOMEIMPROVEMENT          B      35000   \\\\n32579                5.0         PERSONAL          B      15000   \\\\n32580                2.0          MEDICAL          B       6475   \\\\n\\\\n       loan_int_rate  loan_status  loan_percent_income  \\\\\\\\\\\\n0              16.02            1                 0.59   \\\\n1              11.14            0                 0.10   \\\\n2              12.87            1                 0.57   \\\\n3              15.23            1                 0.53   \\\\n4              14.27            1                 0.55   \\\\n...              ...          ...                  ...   \\\\n32576          13.16            0                 0.11   \\\\n32577           7.49            0                 0.15   \\\\n32578          10.99            1                 0.46   \\\\n32579          11.48            0                 0.10   \\\\n32580           9.99            0                 0.15   \\\\n\\\\n      cb_person_default_on_file  cb_person_cred_hist_length  \\\\n0                             Y                           3  \\\\n1                             N                           2  \\\\n2                             N                           3  \\\\n3                             N                           2  \\\\n4                             Y                           4  \\\\n...                         ...                         ...  \\\\n32576                         N                          30  \\\\n32577                         N                          19  \\\\n32578                         N                          28  \\\\n32579                         N                          26  \\\\n32580                         N                          30  \\\\n\\\\n[32581 rows x 13 columns]}\"', 'retry_interval': 1, 'retry_count': 0, 'max_retries': 3}\n",
      "> 2023-09-28 10:44:18,346 [error] error cannot submit pipeline: Invalid leading whitespace, reserved character(s), or returncharacter(s) in header value: \"{'model_name': 'credit-classifier', 'dataset':        customer_id  person_age  person_income person_home_ownership  \\\\\\n0                1          22          59000                  RENT   \\n1                2          21           9600                   OWN   \\n2                3          25           9600              MORTGAGE   \\n3                4          23          65500                  RENT   \\n4                5          24          54400                  RENT   \\n...            ...         ...            ...                   ...   \\n32576        32577          57          53000              MORTGAGE   \\n32577        32578          54         120000              MORTGAGE   \\n32578        32579          65          76000                  RENT   \\n32579        32580          56         150000              MORTGAGE   \\n32580        32581          66          42000                  RENT   \\n\\n       person_emp_length      loan_intent loan_grade  loan_amnt  \\\\\\n0                  123.0         PERSONAL          D      35000   \\n1                    5.0        EDUCATION          B       1000   \\n2                    1.0          MEDICAL          C       5500   \\n3                    4.0          MEDICAL          C      35000   \\n4                    8.0          MEDICAL          C      35000   \\n...                  ...              ...        ...        ...   \\n32576                1.0         PERSONAL          C       5800   \\n32577                4.0         PERSONAL          A      17625   \\n32578                3.0  HOMEIMPROVEMENT          B      35000   \\n32579                5.0         PERSONAL          B      15000   \\n32580                2.0          MEDICAL          B       6475   \\n\\n       loan_int_rate  loan_status  loan_percent_income  \\\\\\n0              16.02            1                 0.59   \\n1              11.14            0                 0.10   \\n2              12.87            1                 0.57   \\n3              15.23            1                 0.53   \\n4              14.27            1                 0.55   \\n...              ...          ...                  ...   \\n32576          13.16            0                 0.11   \\n32577           7.49            0                 0.15   \\n32578          10.99            1                 0.46   \\n32579          11.48            0                 0.10   \\n32580           9.99            0                 0.15   \\n\\n      cb_person_default_on_file  cb_person_cred_hist_length  \\n0                             Y                           3  \\n1                             N                           2  \\n2                             N                           3  \\n3                             N                           2  \\n4                             Y                           4  \\n...                         ...                         ...  \\n32576                         N                          30  \\n32577                         N                          19  \\n32578                         N                          28  \\n32579                         N                          26  \\n32580                         N                          30  \\n\\n[32581 rows x 13 columns]}\", caused by: Invalid leading whitespace, reserved character(s), or returncharacter(s) in header value: \"{'model_name': 'credit-classifier', 'dataset':        customer_id  person_age  person_income person_home_ownership  \\\\\\n0                1          22          59000                  RENT   \\n1                2          21           9600                   OWN   \\n2                3          25           9600              MORTGAGE   \\n3                4          23          65500                  RENT   \\n4                5          24          54400                  RENT   \\n...            ...         ...            ...                   ...   \\n32576        32577          57          53000              MORTGAGE   \\n32577        32578          54         120000              MORTGAGE   \\n32578        32579          65          76000                  RENT   \\n32579        32580          56         150000              MORTGAGE   \\n32580        32581          66          42000                  RENT   \\n\\n       person_emp_length      loan_intent loan_grade  loan_amnt  \\\\\\n0                  123.0         PERSONAL          D      35000   \\n1                    5.0        EDUCATION          B       1000   \\n2                    1.0          MEDICAL          C       5500   \\n3                    4.0          MEDICAL          C      35000   \\n4                    8.0          MEDICAL          C      35000   \\n...                  ...              ...        ...        ...   \\n32576                1.0         PERSONAL          C       5800   \\n32577                4.0         PERSONAL          A      17625   \\n32578                3.0  HOMEIMPROVEMENT          B      35000   \\n32579                5.0         PERSONAL          B      15000   \\n32580                2.0          MEDICAL          B       6475   \\n\\n       loan_int_rate  loan_status  loan_percent_income  \\\\\\n0              16.02            1                 0.59   \\n1              11.14            0                 0.10   \\n2              12.87            1                 0.57   \\n3              15.23            1                 0.53   \\n4              14.27            1                 0.55   \\n...              ...          ...                  ...   \\n32576          13.16            0                 0.11   \\n32577           7.49            0                 0.15   \\n32578          10.99            1                 0.46   \\n32579          11.48            0                 0.10   \\n32580           9.99            0                 0.15   \\n\\n      cb_person_default_on_file  cb_person_cred_hist_length  \\n0                             Y                           3  \\n1                             N                           2  \\n2                             N                           3  \\n3                             N                           2  \\n4                             Y                           4  \\n...                         ...                         ...  \\n32576                         N                          30  \\n32577                         N                          19  \\n32578                         N                          28  \\n32579                         N                          26  \\n32580                         N                          30  \\n\\n[32581 rows x 13 columns]}\"\n"
     ]
    },
    {
     "ename": "OSError",
     "evalue": "error: cannot cannot submit pipeline, Invalid leading whitespace, reserved character(s), or returncharacter(s) in header value: \"{'model_name': 'credit-classifier', 'dataset':        customer_id  person_age  person_income person_home_ownership  \\\\\\n0                1          22          59000                  RENT   \\n1                2          21           9600                   OWN   \\n2                3          25           9600              MORTGAGE   \\n3                4          23          65500                  RENT   \\n4                5          24          54400                  RENT   \\n...            ...         ...            ...                   ...   \\n32576        32577          57          53000              MORTGAGE   \\n32577        32578          54         120000              MORTGAGE   \\n32578        32579          65          76000                  RENT   \\n32579        32580          56         150000              MORTGAGE   \\n32580        32581          66          42000                  RENT   \\n\\n       person_emp_length      loan_intent loan_grade  loan_amnt  \\\\\\n0                  123.0         PERSONAL          D      35000   \\n1                    5.0        EDUCATION          B       1000   \\n2                    1.0          MEDICAL          C       5500   \\n3                    4.0          MEDICAL          C      35000   \\n4                    8.0          MEDICAL          C      35000   \\n...                  ...              ...        ...        ...   \\n32576                1.0         PERSONAL          C       5800   \\n32577                4.0         PERSONAL          A      17625   \\n32578                3.0  HOMEIMPROVEMENT          B      35000   \\n32579                5.0         PERSONAL          B      15000   \\n32580                2.0          MEDICAL          B       6475   \\n\\n       loan_int_rate  loan_status  loan_percent_income  \\\\\\n0              16.02            1                 0.59   \\n1              11.14            0                 0.10   \\n2              12.87            1                 0.57   \\n3              15.23            1                 0.53   \\n4              14.27            1                 0.55   \\n...              ...          ...                  ...   \\n32576          13.16            0                 0.11   \\n32577           7.49            0                 0.15   \\n32578          10.99            1                 0.46   \\n32579          11.48            0                 0.10   \\n32580           9.99            0                 0.15   \\n\\n      cb_person_default_on_file  cb_person_cred_hist_length  \\n0                             Y                           3  \\n1                             N                           2  \\n2                             N                           3  \\n3                             N                           2  \\n4                             Y                           4  \\n...                         ...                         ...  \\n32576                         N                          30  \\n32577                         N                          19  \\n32578                         N                          28  \\n32579                         N                          26  \\n32580                         N                          30  \\n\\n[32581 rows x 13 columns]}\", caused by: Invalid leading whitespace, reserved character(s), or returncharacter(s) in header value: \"{'model_name': 'credit-classifier', 'dataset':        customer_id  person_age  person_income person_home_ownership  \\\\\\n0                1          22          59000                  RENT   \\n1                2          21           9600                   OWN   \\n2                3          25           9600              MORTGAGE   \\n3                4          23          65500                  RENT   \\n4                5          24          54400                  RENT   \\n...            ...         ...            ...                   ...   \\n32576        32577          57          53000              MORTGAGE   \\n32577        32578          54         120000              MORTGAGE   \\n32578        32579          65          76000                  RENT   \\n32579        32580          56         150000              MORTGAGE   \\n32580        32581          66          42000                  RENT   \\n\\n       person_emp_length      loan_intent loan_grade  loan_amnt  \\\\\\n0                  123.0         PERSONAL          D      35000   \\n1                    5.0        EDUCATION          B       1000   \\n2                    1.0          MEDICAL          C       5500   \\n3                    4.0          MEDICAL          C      35000   \\n4                    8.0          MEDICAL          C      35000   \\n...                  ...              ...        ...        ...   \\n32576                1.0         PERSONAL          C       5800   \\n32577                4.0         PERSONAL          A      17625   \\n32578                3.0  HOMEIMPROVEMENT          B      35000   \\n32579                5.0         PERSONAL          B      15000   \\n32580                2.0          MEDICAL          B       6475   \\n\\n       loan_int_rate  loan_status  loan_percent_income  \\\\\\n0              16.02            1                 0.59   \\n1              11.14            0                 0.10   \\n2              12.87            1                 0.57   \\n3              15.23            1                 0.53   \\n4              14.27            1                 0.55   \\n...              ...          ...                  ...   \\n32576          13.16            0                 0.11   \\n32577           7.49            0                 0.15   \\n32578          10.99            1                 0.46   \\n32579          11.48            0                 0.10   \\n32580           9.99            0                 0.15   \\n\\n      cb_person_default_on_file  cb_person_cred_hist_length  \\n0                             Y                           3  \\n1                             N                           2  \\n2                             N                           3  \\n3                             N                           2  \\n4                             Y                           4  \\n...                         ...                         ...  \\n32576                         N                          30  \\n32577                         N                          19  \\n32578                         N                          28  \\n32579                         N                          26  \\n32580                         N                          30  \\n\\n[32581 rows x 13 columns]}\"",
     "output_type": "error",
     "traceback": [
      "\u001b[0;31m---------------------------------------------------------------------------\u001b[0m",
      "\u001b[0;31mInvalidHeader\u001b[0m                             Traceback (most recent call last)",
      "File \u001b[0;32m/opt/conda/lib/python3.9/site-packages/mlrun/db/httpdb.py:227\u001b[0m, in \u001b[0;36mHTTPRunDB.api_call\u001b[0;34m(self, method, path, error, params, body, json, headers, timeout, version)\u001b[0m\n\u001b[1;32m    226\u001b[0m \u001b[38;5;28;01mtry\u001b[39;00m:\n\u001b[0;32m--> 227\u001b[0m     response \u001b[38;5;241m=\u001b[39m \u001b[38;5;28;43mself\u001b[39;49m\u001b[38;5;241;43m.\u001b[39;49m\u001b[43msession\u001b[49m\u001b[38;5;241;43m.\u001b[39;49m\u001b[43mrequest\u001b[49m\u001b[43m(\u001b[49m\n\u001b[1;32m    228\u001b[0m \u001b[43m        \u001b[49m\u001b[43mmethod\u001b[49m\u001b[43m,\u001b[49m\u001b[43m \u001b[49m\u001b[43murl\u001b[49m\u001b[43m,\u001b[49m\u001b[43m \u001b[49m\u001b[43mtimeout\u001b[49m\u001b[38;5;241;43m=\u001b[39;49m\u001b[43mtimeout\u001b[49m\u001b[43m,\u001b[49m\u001b[43m \u001b[49m\u001b[43mverify\u001b[49m\u001b[38;5;241;43m=\u001b[39;49m\u001b[38;5;28;43;01mFalse\u001b[39;49;00m\u001b[43m,\u001b[49m\u001b[43m \u001b[49m\u001b[38;5;241;43m*\u001b[39;49m\u001b[38;5;241;43m*\u001b[39;49m\u001b[43mkw\u001b[49m\n\u001b[1;32m    229\u001b[0m \u001b[43m    \u001b[49m\u001b[43m)\u001b[49m\n\u001b[1;32m    230\u001b[0m \u001b[38;5;28;01mexcept\u001b[39;00m requests\u001b[38;5;241m.\u001b[39mRequestException \u001b[38;5;28;01mas\u001b[39;00m exc:\n",
      "File \u001b[0;32m/opt/conda/lib/python3.9/site-packages/mlrun/utils/http.py:117\u001b[0m, in \u001b[0;36mHTTPSessionWithRetry.request\u001b[0;34m(self, method, url, **kwargs)\u001b[0m\n\u001b[1;32m    116\u001b[0m \u001b[38;5;28;01mif\u001b[39;00m \u001b[38;5;129;01mnot\u001b[39;00m \u001b[38;5;28mself\u001b[39m\u001b[38;5;241m.\u001b[39m_error_is_retryable(url, method, exc, retry_count):\n\u001b[0;32m--> 117\u001b[0m     \u001b[38;5;28;01mraise\u001b[39;00m exc\n\u001b[1;32m    119\u001b[0m \u001b[38;5;28mself\u001b[39m\u001b[38;5;241m.\u001b[39m_logger\u001b[38;5;241m.\u001b[39mwarning(\n\u001b[1;32m    120\u001b[0m     \u001b[38;5;124m\"\u001b[39m\u001b[38;5;124mError during request handling, retrying\u001b[39m\u001b[38;5;124m\"\u001b[39m,\n\u001b[1;32m    121\u001b[0m     exc\u001b[38;5;241m=\u001b[39m\u001b[38;5;28mstr\u001b[39m(exc),\n\u001b[0;32m   (...)\u001b[0m\n\u001b[1;32m    124\u001b[0m     method\u001b[38;5;241m=\u001b[39mmethod,\n\u001b[1;32m    125\u001b[0m )\n",
      "File \u001b[0;32m/opt/conda/lib/python3.9/site-packages/mlrun/utils/http.py:113\u001b[0m, in \u001b[0;36mHTTPSessionWithRetry.request\u001b[0;34m(self, method, url, **kwargs)\u001b[0m\n\u001b[1;32m    112\u001b[0m \u001b[38;5;28;01mtry\u001b[39;00m:\n\u001b[0;32m--> 113\u001b[0m     response \u001b[38;5;241m=\u001b[39m \u001b[38;5;28;43msuper\u001b[39;49m\u001b[43m(\u001b[49m\u001b[43m)\u001b[49m\u001b[38;5;241;43m.\u001b[39;49m\u001b[43mrequest\u001b[49m\u001b[43m(\u001b[49m\u001b[43mmethod\u001b[49m\u001b[43m,\u001b[49m\u001b[43m \u001b[49m\u001b[43murl\u001b[49m\u001b[43m,\u001b[49m\u001b[43m \u001b[49m\u001b[38;5;241;43m*\u001b[39;49m\u001b[38;5;241;43m*\u001b[39;49m\u001b[43mkwargs\u001b[49m\u001b[43m)\u001b[49m\n\u001b[1;32m    114\u001b[0m     \u001b[38;5;28;01mreturn\u001b[39;00m response\n",
      "File \u001b[0;32m/opt/conda/lib/python3.9/site-packages/requests/sessions.py:573\u001b[0m, in \u001b[0;36mSession.request\u001b[0;34m(self, method, url, params, data, headers, cookies, files, auth, timeout, allow_redirects, proxies, hooks, stream, verify, cert, json)\u001b[0m\n\u001b[1;32m    561\u001b[0m req \u001b[38;5;241m=\u001b[39m Request(\n\u001b[1;32m    562\u001b[0m     method\u001b[38;5;241m=\u001b[39mmethod\u001b[38;5;241m.\u001b[39mupper(),\n\u001b[1;32m    563\u001b[0m     url\u001b[38;5;241m=\u001b[39murl,\n\u001b[0;32m   (...)\u001b[0m\n\u001b[1;32m    571\u001b[0m     hooks\u001b[38;5;241m=\u001b[39mhooks,\n\u001b[1;32m    572\u001b[0m )\n\u001b[0;32m--> 573\u001b[0m prep \u001b[38;5;241m=\u001b[39m \u001b[38;5;28;43mself\u001b[39;49m\u001b[38;5;241;43m.\u001b[39;49m\u001b[43mprepare_request\u001b[49m\u001b[43m(\u001b[49m\u001b[43mreq\u001b[49m\u001b[43m)\u001b[49m\n\u001b[1;32m    575\u001b[0m proxies \u001b[38;5;241m=\u001b[39m proxies \u001b[38;5;129;01mor\u001b[39;00m {}\n",
      "File \u001b[0;32m/opt/conda/lib/python3.9/site-packages/requests/sessions.py:484\u001b[0m, in \u001b[0;36mSession.prepare_request\u001b[0;34m(self, request)\u001b[0m\n\u001b[1;32m    483\u001b[0m p \u001b[38;5;241m=\u001b[39m PreparedRequest()\n\u001b[0;32m--> 484\u001b[0m \u001b[43mp\u001b[49m\u001b[38;5;241;43m.\u001b[39;49m\u001b[43mprepare\u001b[49m\u001b[43m(\u001b[49m\n\u001b[1;32m    485\u001b[0m \u001b[43m    \u001b[49m\u001b[43mmethod\u001b[49m\u001b[38;5;241;43m=\u001b[39;49m\u001b[43mrequest\u001b[49m\u001b[38;5;241;43m.\u001b[39;49m\u001b[43mmethod\u001b[49m\u001b[38;5;241;43m.\u001b[39;49m\u001b[43mupper\u001b[49m\u001b[43m(\u001b[49m\u001b[43m)\u001b[49m\u001b[43m,\u001b[49m\n\u001b[1;32m    486\u001b[0m \u001b[43m    \u001b[49m\u001b[43murl\u001b[49m\u001b[38;5;241;43m=\u001b[39;49m\u001b[43mrequest\u001b[49m\u001b[38;5;241;43m.\u001b[39;49m\u001b[43murl\u001b[49m\u001b[43m,\u001b[49m\n\u001b[1;32m    487\u001b[0m \u001b[43m    \u001b[49m\u001b[43mfiles\u001b[49m\u001b[38;5;241;43m=\u001b[39;49m\u001b[43mrequest\u001b[49m\u001b[38;5;241;43m.\u001b[39;49m\u001b[43mfiles\u001b[49m\u001b[43m,\u001b[49m\n\u001b[1;32m    488\u001b[0m \u001b[43m    \u001b[49m\u001b[43mdata\u001b[49m\u001b[38;5;241;43m=\u001b[39;49m\u001b[43mrequest\u001b[49m\u001b[38;5;241;43m.\u001b[39;49m\u001b[43mdata\u001b[49m\u001b[43m,\u001b[49m\n\u001b[1;32m    489\u001b[0m \u001b[43m    \u001b[49m\u001b[43mjson\u001b[49m\u001b[38;5;241;43m=\u001b[39;49m\u001b[43mrequest\u001b[49m\u001b[38;5;241;43m.\u001b[39;49m\u001b[43mjson\u001b[49m\u001b[43m,\u001b[49m\n\u001b[1;32m    490\u001b[0m \u001b[43m    \u001b[49m\u001b[43mheaders\u001b[49m\u001b[38;5;241;43m=\u001b[39;49m\u001b[43mmerge_setting\u001b[49m\u001b[43m(\u001b[49m\n\u001b[1;32m    491\u001b[0m \u001b[43m        \u001b[49m\u001b[43mrequest\u001b[49m\u001b[38;5;241;43m.\u001b[39;49m\u001b[43mheaders\u001b[49m\u001b[43m,\u001b[49m\u001b[43m \u001b[49m\u001b[38;5;28;43mself\u001b[39;49m\u001b[38;5;241;43m.\u001b[39;49m\u001b[43mheaders\u001b[49m\u001b[43m,\u001b[49m\u001b[43m \u001b[49m\u001b[43mdict_class\u001b[49m\u001b[38;5;241;43m=\u001b[39;49m\u001b[43mCaseInsensitiveDict\u001b[49m\n\u001b[1;32m    492\u001b[0m \u001b[43m    \u001b[49m\u001b[43m)\u001b[49m\u001b[43m,\u001b[49m\n\u001b[1;32m    493\u001b[0m \u001b[43m    \u001b[49m\u001b[43mparams\u001b[49m\u001b[38;5;241;43m=\u001b[39;49m\u001b[43mmerge_setting\u001b[49m\u001b[43m(\u001b[49m\u001b[43mrequest\u001b[49m\u001b[38;5;241;43m.\u001b[39;49m\u001b[43mparams\u001b[49m\u001b[43m,\u001b[49m\u001b[43m \u001b[49m\u001b[38;5;28;43mself\u001b[39;49m\u001b[38;5;241;43m.\u001b[39;49m\u001b[43mparams\u001b[49m\u001b[43m)\u001b[49m\u001b[43m,\u001b[49m\n\u001b[1;32m    494\u001b[0m \u001b[43m    \u001b[49m\u001b[43mauth\u001b[49m\u001b[38;5;241;43m=\u001b[39;49m\u001b[43mmerge_setting\u001b[49m\u001b[43m(\u001b[49m\u001b[43mauth\u001b[49m\u001b[43m,\u001b[49m\u001b[43m \u001b[49m\u001b[38;5;28;43mself\u001b[39;49m\u001b[38;5;241;43m.\u001b[39;49m\u001b[43mauth\u001b[49m\u001b[43m)\u001b[49m\u001b[43m,\u001b[49m\n\u001b[1;32m    495\u001b[0m \u001b[43m    \u001b[49m\u001b[43mcookies\u001b[49m\u001b[38;5;241;43m=\u001b[39;49m\u001b[43mmerged_cookies\u001b[49m\u001b[43m,\u001b[49m\n\u001b[1;32m    496\u001b[0m \u001b[43m    \u001b[49m\u001b[43mhooks\u001b[49m\u001b[38;5;241;43m=\u001b[39;49m\u001b[43mmerge_hooks\u001b[49m\u001b[43m(\u001b[49m\u001b[43mrequest\u001b[49m\u001b[38;5;241;43m.\u001b[39;49m\u001b[43mhooks\u001b[49m\u001b[43m,\u001b[49m\u001b[43m \u001b[49m\u001b[38;5;28;43mself\u001b[39;49m\u001b[38;5;241;43m.\u001b[39;49m\u001b[43mhooks\u001b[49m\u001b[43m)\u001b[49m\u001b[43m,\u001b[49m\n\u001b[1;32m    497\u001b[0m \u001b[43m\u001b[49m\u001b[43m)\u001b[49m\n\u001b[1;32m    498\u001b[0m \u001b[38;5;28;01mreturn\u001b[39;00m p\n",
      "File \u001b[0;32m/opt/conda/lib/python3.9/site-packages/requests/models.py:369\u001b[0m, in \u001b[0;36mPreparedRequest.prepare\u001b[0;34m(self, method, url, headers, files, data, params, auth, cookies, hooks, json)\u001b[0m\n\u001b[1;32m    368\u001b[0m \u001b[38;5;28mself\u001b[39m\u001b[38;5;241m.\u001b[39mprepare_url(url, params)\n\u001b[0;32m--> 369\u001b[0m \u001b[38;5;28;43mself\u001b[39;49m\u001b[38;5;241;43m.\u001b[39;49m\u001b[43mprepare_headers\u001b[49m\u001b[43m(\u001b[49m\u001b[43mheaders\u001b[49m\u001b[43m)\u001b[49m\n\u001b[1;32m    370\u001b[0m \u001b[38;5;28mself\u001b[39m\u001b[38;5;241m.\u001b[39mprepare_cookies(cookies)\n",
      "File \u001b[0;32m/opt/conda/lib/python3.9/site-packages/requests/models.py:491\u001b[0m, in \u001b[0;36mPreparedRequest.prepare_headers\u001b[0;34m(self, headers)\u001b[0m\n\u001b[1;32m    489\u001b[0m \u001b[38;5;28;01mfor\u001b[39;00m header \u001b[38;5;129;01min\u001b[39;00m headers\u001b[38;5;241m.\u001b[39mitems():\n\u001b[1;32m    490\u001b[0m     \u001b[38;5;66;03m# Raise exception on invalid header value.\u001b[39;00m\n\u001b[0;32m--> 491\u001b[0m     \u001b[43mcheck_header_validity\u001b[49m\u001b[43m(\u001b[49m\u001b[43mheader\u001b[49m\u001b[43m)\u001b[49m\n\u001b[1;32m    492\u001b[0m     name, value \u001b[38;5;241m=\u001b[39m header\n",
      "File \u001b[0;32m/opt/conda/lib/python3.9/site-packages/requests/utils.py:1043\u001b[0m, in \u001b[0;36mcheck_header_validity\u001b[0;34m(header)\u001b[0m\n\u001b[1;32m   1042\u001b[0m _validate_header_part(name, \u001b[38;5;124m\"\u001b[39m\u001b[38;5;124mname\u001b[39m\u001b[38;5;124m\"\u001b[39m, HEADER_VALIDATORS[\u001b[38;5;28mtype\u001b[39m(name)][\u001b[38;5;241m0\u001b[39m])\n\u001b[0;32m-> 1043\u001b[0m \u001b[43m_validate_header_part\u001b[49m\u001b[43m(\u001b[49m\u001b[43mvalue\u001b[49m\u001b[43m,\u001b[49m\u001b[43m \u001b[49m\u001b[38;5;124;43m\"\u001b[39;49m\u001b[38;5;124;43mvalue\u001b[39;49m\u001b[38;5;124;43m\"\u001b[39;49m\u001b[43m,\u001b[49m\u001b[43m \u001b[49m\u001b[43mHEADER_VALIDATORS\u001b[49m\u001b[43m[\u001b[49m\u001b[38;5;28;43mtype\u001b[39;49m\u001b[43m(\u001b[49m\u001b[43mvalue\u001b[49m\u001b[43m)\u001b[49m\u001b[43m]\u001b[49m\u001b[43m[\u001b[49m\u001b[38;5;241;43m1\u001b[39;49m\u001b[43m]\u001b[49m\u001b[43m)\u001b[49m\n",
      "File \u001b[0;32m/opt/conda/lib/python3.9/site-packages/requests/utils.py:1048\u001b[0m, in \u001b[0;36m_validate_header_part\u001b[0;34m(header_part, header_kind, validator)\u001b[0m\n\u001b[1;32m   1047\u001b[0m \u001b[38;5;28;01mif\u001b[39;00m \u001b[38;5;129;01mnot\u001b[39;00m validator\u001b[38;5;241m.\u001b[39mmatch(header_part):\n\u001b[0;32m-> 1048\u001b[0m     \u001b[38;5;28;01mraise\u001b[39;00m InvalidHeader(\n\u001b[1;32m   1049\u001b[0m         \u001b[38;5;124mf\u001b[39m\u001b[38;5;124m\"\u001b[39m\u001b[38;5;124mInvalid leading whitespace, reserved character(s), or return\u001b[39m\u001b[38;5;124m\"\u001b[39m\n\u001b[1;32m   1050\u001b[0m         \u001b[38;5;124mf\u001b[39m\u001b[38;5;124m\"\u001b[39m\u001b[38;5;124mcharacter(s) in header \u001b[39m\u001b[38;5;132;01m{\u001b[39;00mheader_kind\u001b[38;5;132;01m}\u001b[39;00m\u001b[38;5;124m: \u001b[39m\u001b[38;5;132;01m{\u001b[39;00mheader_part\u001b[38;5;132;01m!r}\u001b[39;00m\u001b[38;5;124m\"\u001b[39m\n\u001b[1;32m   1051\u001b[0m     )\n",
      "\u001b[0;31mInvalidHeader\u001b[0m: Invalid leading whitespace, reserved character(s), or returncharacter(s) in header value: \"{'model_name': 'credit-classifier', 'dataset':        customer_id  person_age  person_income person_home_ownership  \\\\\\n0                1          22          59000                  RENT   \\n1                2          21           9600                   OWN   \\n2                3          25           9600              MORTGAGE   \\n3                4          23          65500                  RENT   \\n4                5          24          54400                  RENT   \\n...            ...         ...            ...                   ...   \\n32576        32577          57          53000              MORTGAGE   \\n32577        32578          54         120000              MORTGAGE   \\n32578        32579          65          76000                  RENT   \\n32579        32580          56         150000              MORTGAGE   \\n32580        32581          66          42000                  RENT   \\n\\n       person_emp_length      loan_intent loan_grade  loan_amnt  \\\\\\n0                  123.0         PERSONAL          D      35000   \\n1                    5.0        EDUCATION          B       1000   \\n2                    1.0          MEDICAL          C       5500   \\n3                    4.0          MEDICAL          C      35000   \\n4                    8.0          MEDICAL          C      35000   \\n...                  ...              ...        ...        ...   \\n32576                1.0         PERSONAL          C       5800   \\n32577                4.0         PERSONAL          A      17625   \\n32578                3.0  HOMEIMPROVEMENT          B      35000   \\n32579                5.0         PERSONAL          B      15000   \\n32580                2.0          MEDICAL          B       6475   \\n\\n       loan_int_rate  loan_status  loan_percent_income  \\\\\\n0              16.02            1                 0.59   \\n1              11.14            0                 0.10   \\n2              12.87            1                 0.57   \\n3              15.23            1                 0.53   \\n4              14.27            1                 0.55   \\n...              ...          ...                  ...   \\n32576          13.16            0                 0.11   \\n32577           7.49            0                 0.15   \\n32578          10.99            1                 0.46   \\n32579          11.48            0                 0.10   \\n32580           9.99            0                 0.15   \\n\\n      cb_person_default_on_file  cb_person_cred_hist_length  \\n0                             Y                           3  \\n1                             N                           2  \\n2                             N                           3  \\n3                             N                           2  \\n4                             Y                           4  \\n...                         ...                         ...  \\n32576                         N                          30  \\n32577                         N                          19  \\n32578                         N                          28  \\n32579                         N                          26  \\n32580                         N                          30  \\n\\n[32581 rows x 13 columns]}\"",
      "\nThe above exception was the direct cause of the following exception:\n",
      "\u001b[0;31mMLRunRuntimeError\u001b[0m                         Traceback (most recent call last)",
      "File \u001b[0;32m/opt/conda/lib/python3.9/site-packages/mlrun/db/httpdb.py:1419\u001b[0m, in \u001b[0;36mHTTPRunDB.submit_pipeline\u001b[0;34m(self, project, pipeline, arguments, experiment, run, namespace, artifact_path, ops, ttl, cleanup_ttl)\u001b[0m\n\u001b[1;32m   1418\u001b[0m     params \u001b[38;5;241m=\u001b[39m {\u001b[38;5;124m\"\u001b[39m\u001b[38;5;124mnamespace\u001b[39m\u001b[38;5;124m\"\u001b[39m: namespace, \u001b[38;5;124m\"\u001b[39m\u001b[38;5;124mexperiment\u001b[39m\u001b[38;5;124m\"\u001b[39m: experiment, \u001b[38;5;124m\"\u001b[39m\u001b[38;5;124mrun\u001b[39m\u001b[38;5;124m\"\u001b[39m: run}\n\u001b[0;32m-> 1419\u001b[0m     resp \u001b[38;5;241m=\u001b[39m \u001b[38;5;28;43mself\u001b[39;49m\u001b[38;5;241;43m.\u001b[39;49m\u001b[43mapi_call\u001b[49m\u001b[43m(\u001b[49m\n\u001b[1;32m   1420\u001b[0m \u001b[43m        \u001b[49m\u001b[38;5;124;43m\"\u001b[39;49m\u001b[38;5;124;43mPOST\u001b[39;49m\u001b[38;5;124;43m\"\u001b[39;49m\u001b[43m,\u001b[49m\n\u001b[1;32m   1421\u001b[0m \u001b[43m        \u001b[49m\u001b[38;5;124;43mf\u001b[39;49m\u001b[38;5;124;43m\"\u001b[39;49m\u001b[38;5;124;43mprojects/\u001b[39;49m\u001b[38;5;132;43;01m{\u001b[39;49;00m\u001b[43mproject\u001b[49m\u001b[38;5;132;43;01m}\u001b[39;49;00m\u001b[38;5;124;43m/pipelines\u001b[39;49m\u001b[38;5;124;43m\"\u001b[39;49m\u001b[43m,\u001b[49m\n\u001b[1;32m   1422\u001b[0m \u001b[43m        \u001b[49m\u001b[43mparams\u001b[49m\u001b[38;5;241;43m=\u001b[39;49m\u001b[43mparams\u001b[49m\u001b[43m,\u001b[49m\n\u001b[1;32m   1423\u001b[0m \u001b[43m        \u001b[49m\u001b[43mtimeout\u001b[49m\u001b[38;5;241;43m=\u001b[39;49m\u001b[38;5;241;43m20\u001b[39;49m\u001b[43m,\u001b[49m\n\u001b[1;32m   1424\u001b[0m \u001b[43m        \u001b[49m\u001b[43mbody\u001b[49m\u001b[38;5;241;43m=\u001b[39;49m\u001b[43mdata\u001b[49m\u001b[43m,\u001b[49m\n\u001b[1;32m   1425\u001b[0m \u001b[43m        \u001b[49m\u001b[43mheaders\u001b[49m\u001b[38;5;241;43m=\u001b[39;49m\u001b[43mheaders\u001b[49m\u001b[43m,\u001b[49m\n\u001b[1;32m   1426\u001b[0m \u001b[43m    \u001b[49m\u001b[43m)\u001b[49m\n\u001b[1;32m   1427\u001b[0m \u001b[38;5;28;01mexcept\u001b[39;00m \u001b[38;5;167;01mOSError\u001b[39;00m \u001b[38;5;28;01mas\u001b[39;00m err:\n",
      "File \u001b[0;32m/opt/conda/lib/python3.9/site-packages/mlrun/db/httpdb.py:232\u001b[0m, in \u001b[0;36mHTTPRunDB.api_call\u001b[0;34m(self, method, path, error, params, body, json, headers, timeout, version)\u001b[0m\n\u001b[1;32m    231\u001b[0m     error \u001b[38;5;241m=\u001b[39m \u001b[38;5;124mf\u001b[39m\u001b[38;5;124m\"\u001b[39m\u001b[38;5;132;01m{\u001b[39;00merr_to_str(exc)\u001b[38;5;132;01m}\u001b[39;00m\u001b[38;5;124m: \u001b[39m\u001b[38;5;132;01m{\u001b[39;00merror\u001b[38;5;132;01m}\u001b[39;00m\u001b[38;5;124m\"\u001b[39m \u001b[38;5;28;01mif\u001b[39;00m error \u001b[38;5;28;01melse\u001b[39;00m err_to_str(exc)\n\u001b[0;32m--> 232\u001b[0m     \u001b[38;5;28;01mraise\u001b[39;00m mlrun\u001b[38;5;241m.\u001b[39merrors\u001b[38;5;241m.\u001b[39mMLRunRuntimeError(error) \u001b[38;5;28;01mfrom\u001b[39;00m \u001b[38;5;21;01mexc\u001b[39;00m\n\u001b[1;32m    234\u001b[0m \u001b[38;5;28;01mif\u001b[39;00m \u001b[38;5;129;01mnot\u001b[39;00m response\u001b[38;5;241m.\u001b[39mok:\n",
      "\u001b[0;31mMLRunRuntimeError\u001b[0m: Invalid leading whitespace, reserved character(s), or returncharacter(s) in header value: \"{'model_name': 'credit-classifier', 'dataset':        customer_id  person_age  person_income person_home_ownership  \\\\\\n0                1          22          59000                  RENT   \\n1                2          21           9600                   OWN   \\n2                3          25           9600              MORTGAGE   \\n3                4          23          65500                  RENT   \\n4                5          24          54400                  RENT   \\n...            ...         ...            ...                   ...   \\n32576        32577          57          53000              MORTGAGE   \\n32577        32578          54         120000              MORTGAGE   \\n32578        32579          65          76000                  RENT   \\n32579        32580          56         150000              MORTGAGE   \\n32580        32581          66          42000                  RENT   \\n\\n       person_emp_length      loan_intent loan_grade  loan_amnt  \\\\\\n0                  123.0         PERSONAL          D      35000   \\n1                    5.0        EDUCATION          B       1000   \\n2                    1.0          MEDICAL          C       5500   \\n3                    4.0          MEDICAL          C      35000   \\n4                    8.0          MEDICAL          C      35000   \\n...                  ...              ...        ...        ...   \\n32576                1.0         PERSONAL          C       5800   \\n32577                4.0         PERSONAL          A      17625   \\n32578                3.0  HOMEIMPROVEMENT          B      35000   \\n32579                5.0         PERSONAL          B      15000   \\n32580                2.0          MEDICAL          B       6475   \\n\\n       loan_int_rate  loan_status  loan_percent_income  \\\\\\n0              16.02            1                 0.59   \\n1              11.14            0                 0.10   \\n2              12.87            1                 0.57   \\n3              15.23            1                 0.53   \\n4              14.27            1                 0.55   \\n...              ...          ...                  ...   \\n32576          13.16            0                 0.11   \\n32577           7.49            0                 0.15   \\n32578          10.99            1                 0.46   \\n32579          11.48            0                 0.10   \\n32580           9.99            0                 0.15   \\n\\n      cb_person_default_on_file  cb_person_cred_hist_length  \\n0                             Y                           3  \\n1                             N                           2  \\n2                             N                           3  \\n3                             N                           2  \\n4                             Y                           4  \\n...                         ...                         ...  \\n32576                         N                          30  \\n32577                         N                          19  \\n32578                         N                          28  \\n32579                         N                          26  \\n32580                         N                          30  \\n\\n[32581 rows x 13 columns]}\"",
      "\nDuring handling of the above exception, another exception occurred:\n",
      "\u001b[0;31mOSError\u001b[0m                                   Traceback (most recent call last)",
      "Cell \u001b[0;32mIn [22], line 2\u001b[0m\n\u001b[1;32m      1\u001b[0m \u001b[38;5;66;03m# Run the workflow\u001b[39;00m\n\u001b[0;32m----> 2\u001b[0m run_id \u001b[38;5;241m=\u001b[39m \u001b[43mproject\u001b[49m\u001b[38;5;241;43m.\u001b[39;49m\u001b[43mrun\u001b[49m\u001b[43m(\u001b[49m\n\u001b[1;32m      3\u001b[0m \u001b[43m    \u001b[49m\u001b[43mworkflow_path\u001b[49m\u001b[38;5;241;43m=\u001b[39;49m\u001b[38;5;124;43m\"\u001b[39;49m\u001b[38;5;124;43m./workflow-oracle.py\u001b[39;49m\u001b[38;5;124;43m\"\u001b[39;49m\u001b[43m,\u001b[49m\n\u001b[1;32m      4\u001b[0m \u001b[43m    \u001b[49m\u001b[43marguments\u001b[49m\u001b[38;5;241;43m=\u001b[39;49m\u001b[43m{\u001b[49m\u001b[38;5;124;43m\"\u001b[39;49m\u001b[38;5;124;43mmodel_name\u001b[39;49m\u001b[38;5;124;43m\"\u001b[39;49m\u001b[43m:\u001b[49m\u001b[43m \u001b[49m\u001b[38;5;124;43m\"\u001b[39;49m\u001b[38;5;124;43mcredit-classifier\u001b[39;49m\u001b[38;5;124;43m\"\u001b[39;49m\u001b[43m,\u001b[49m\u001b[38;5;124;43m\"\u001b[39;49m\u001b[38;5;124;43mdataset\u001b[39;49m\u001b[38;5;124;43m\"\u001b[39;49m\u001b[43m:\u001b[49m\u001b[43m \u001b[49m\u001b[43mdf\u001b[49m\u001b[43m}\u001b[49m\u001b[43m,\u001b[49m\n\u001b[1;32m      5\u001b[0m \u001b[43m    \u001b[49m\u001b[43mwatch\u001b[49m\u001b[38;5;241;43m=\u001b[39;49m\u001b[38;5;28;43;01mTrue\u001b[39;49;00m\u001b[43m,\u001b[49m\n\u001b[1;32m      6\u001b[0m \u001b[43m)\u001b[49m\n",
      "File \u001b[0;32m/opt/conda/lib/python3.9/site-packages/mlrun/projects/project.py:2327\u001b[0m, in \u001b[0;36mMlrunProject.run\u001b[0;34m(self, name, workflow_path, arguments, artifact_path, workflow_handler, namespace, sync, watch, dirty, ttl, engine, local, schedule, timeout, overwrite, source, cleanup_ttl)\u001b[0m\n\u001b[1;32m   2324\u001b[0m     inner_engine \u001b[38;5;241m=\u001b[39m get_workflow_engine(workflow_spec\u001b[38;5;241m.\u001b[39mengine, local)\u001b[38;5;241m.\u001b[39mengine\n\u001b[1;32m   2325\u001b[0m workflow_spec\u001b[38;5;241m.\u001b[39mengine \u001b[38;5;241m=\u001b[39m inner_engine \u001b[38;5;129;01mor\u001b[39;00m workflow_engine\u001b[38;5;241m.\u001b[39mengine\n\u001b[0;32m-> 2327\u001b[0m run \u001b[38;5;241m=\u001b[39m \u001b[43mworkflow_engine\u001b[49m\u001b[38;5;241;43m.\u001b[39;49m\u001b[43mrun\u001b[49m\u001b[43m(\u001b[49m\n\u001b[1;32m   2328\u001b[0m \u001b[43m    \u001b[49m\u001b[38;5;28;43mself\u001b[39;49m\u001b[43m,\u001b[49m\n\u001b[1;32m   2329\u001b[0m \u001b[43m    \u001b[49m\u001b[43mworkflow_spec\u001b[49m\u001b[43m,\u001b[49m\n\u001b[1;32m   2330\u001b[0m \u001b[43m    \u001b[49m\u001b[43mname\u001b[49m\u001b[43m,\u001b[49m\n\u001b[1;32m   2331\u001b[0m \u001b[43m    \u001b[49m\u001b[43mworkflow_handler\u001b[49m\u001b[38;5;241;43m=\u001b[39;49m\u001b[43mworkflow_handler\u001b[49m\u001b[43m,\u001b[49m\n\u001b[1;32m   2332\u001b[0m \u001b[43m    \u001b[49m\u001b[43msecrets\u001b[49m\u001b[38;5;241;43m=\u001b[39;49m\u001b[38;5;28;43mself\u001b[39;49m\u001b[38;5;241;43m.\u001b[39;49m\u001b[43m_secrets\u001b[49m\u001b[43m,\u001b[49m\n\u001b[1;32m   2333\u001b[0m \u001b[43m    \u001b[49m\u001b[43martifact_path\u001b[49m\u001b[38;5;241;43m=\u001b[39;49m\u001b[43martifact_path\u001b[49m\u001b[43m,\u001b[49m\n\u001b[1;32m   2334\u001b[0m \u001b[43m    \u001b[49m\u001b[43mnamespace\u001b[49m\u001b[38;5;241;43m=\u001b[39;49m\u001b[43mnamespace\u001b[49m\u001b[43m,\u001b[49m\n\u001b[1;32m   2335\u001b[0m \u001b[43m    \u001b[49m\u001b[43msource\u001b[49m\u001b[38;5;241;43m=\u001b[39;49m\u001b[43msource\u001b[49m\u001b[43m,\u001b[49m\n\u001b[1;32m   2336\u001b[0m \u001b[43m\u001b[49m\u001b[43m)\u001b[49m\n\u001b[1;32m   2337\u001b[0m \u001b[38;5;66;03m# run is None when scheduling\u001b[39;00m\n\u001b[1;32m   2338\u001b[0m \u001b[38;5;28;01mif\u001b[39;00m run \u001b[38;5;129;01mand\u001b[39;00m run\u001b[38;5;241m.\u001b[39mstate \u001b[38;5;241m==\u001b[39m mlrun\u001b[38;5;241m.\u001b[39mrun\u001b[38;5;241m.\u001b[39mRunStatuses\u001b[38;5;241m.\u001b[39mfailed:\n",
      "File \u001b[0;32m/opt/conda/lib/python3.9/site-packages/mlrun/projects/pipelines.py:586\u001b[0m, in \u001b[0;36m_KFPRunner.run\u001b[0;34m(cls, project, workflow_spec, name, workflow_handler, secrets, artifact_path, namespace, source)\u001b[0m\n\u001b[1;32m    583\u001b[0m     project\u001b[38;5;241m.\u001b[39mset_source(source\u001b[38;5;241m=\u001b[39msource)\n\u001b[1;32m    585\u001b[0m namespace \u001b[38;5;241m=\u001b[39m namespace \u001b[38;5;129;01mor\u001b[39;00m config\u001b[38;5;241m.\u001b[39mnamespace\n\u001b[0;32m--> 586\u001b[0m \u001b[38;5;28mid\u001b[39m \u001b[38;5;241m=\u001b[39m \u001b[43m_run_pipeline\u001b[49m\u001b[43m(\u001b[49m\n\u001b[1;32m    587\u001b[0m \u001b[43m    \u001b[49m\u001b[43mworkflow_handler\u001b[49m\u001b[43m,\u001b[49m\n\u001b[1;32m    588\u001b[0m \u001b[43m    \u001b[49m\u001b[43mproject\u001b[49m\u001b[38;5;241;43m=\u001b[39;49m\u001b[43mproject\u001b[49m\u001b[38;5;241;43m.\u001b[39;49m\u001b[43mmetadata\u001b[49m\u001b[38;5;241;43m.\u001b[39;49m\u001b[43mname\u001b[49m\u001b[43m,\u001b[49m\n\u001b[1;32m    589\u001b[0m \u001b[43m    \u001b[49m\u001b[43marguments\u001b[49m\u001b[38;5;241;43m=\u001b[39;49m\u001b[43mworkflow_spec\u001b[49m\u001b[38;5;241;43m.\u001b[39;49m\u001b[43margs\u001b[49m\u001b[43m,\u001b[49m\n\u001b[1;32m    590\u001b[0m \u001b[43m    \u001b[49m\u001b[43mexperiment\u001b[49m\u001b[38;5;241;43m=\u001b[39;49m\u001b[43mname\u001b[49m\u001b[43m \u001b[49m\u001b[38;5;129;43;01mor\u001b[39;49;00m\u001b[43m \u001b[49m\u001b[43mworkflow_spec\u001b[49m\u001b[38;5;241;43m.\u001b[39;49m\u001b[43mname\u001b[49m\u001b[43m,\u001b[49m\n\u001b[1;32m    591\u001b[0m \u001b[43m    \u001b[49m\u001b[43mnamespace\u001b[49m\u001b[38;5;241;43m=\u001b[39;49m\u001b[43mnamespace\u001b[49m\u001b[43m,\u001b[49m\n\u001b[1;32m    592\u001b[0m \u001b[43m    \u001b[49m\u001b[43martifact_path\u001b[49m\u001b[38;5;241;43m=\u001b[39;49m\u001b[43martifact_path\u001b[49m\u001b[43m,\u001b[49m\n\u001b[1;32m    593\u001b[0m \u001b[43m    \u001b[49m\u001b[43mcleanup_ttl\u001b[49m\u001b[38;5;241;43m=\u001b[39;49m\u001b[43mworkflow_spec\u001b[49m\u001b[38;5;241;43m.\u001b[39;49m\u001b[43mcleanup_ttl\u001b[49m\u001b[43m \u001b[49m\u001b[38;5;129;43;01mor\u001b[39;49;00m\u001b[43m \u001b[49m\u001b[43mworkflow_spec\u001b[49m\u001b[38;5;241;43m.\u001b[39;49m\u001b[43mttl\u001b[49m\u001b[43m,\u001b[49m\n\u001b[1;32m    594\u001b[0m \u001b[43m\u001b[49m\u001b[43m)\u001b[49m\n\u001b[1;32m    595\u001b[0m project\u001b[38;5;241m.\u001b[39mnotifiers\u001b[38;5;241m.\u001b[39mpush_pipeline_start_message(\n\u001b[1;32m    596\u001b[0m     project\u001b[38;5;241m.\u001b[39mmetadata\u001b[38;5;241m.\u001b[39mname,\n\u001b[1;32m    597\u001b[0m     project\u001b[38;5;241m.\u001b[39mget_param(\u001b[38;5;124m\"\u001b[39m\u001b[38;5;124mcommit_id\u001b[39m\u001b[38;5;124m\"\u001b[39m, \u001b[38;5;28;01mNone\u001b[39;00m),\n\u001b[1;32m    598\u001b[0m     \u001b[38;5;28mid\u001b[39m,\n\u001b[1;32m    599\u001b[0m     \u001b[38;5;28;01mTrue\u001b[39;00m,\n\u001b[1;32m    600\u001b[0m )\n\u001b[1;32m    601\u001b[0m pipeline_context\u001b[38;5;241m.\u001b[39mclear()\n",
      "File \u001b[0;32m/opt/conda/lib/python3.9/site-packages/mlrun/run.py:1103\u001b[0m, in \u001b[0;36m_run_pipeline\u001b[0;34m(pipeline, arguments, project, experiment, run, namespace, artifact_path, ops, url, cleanup_ttl)\u001b[0m\n\u001b[1;32m   1097\u001b[0m \u001b[38;5;28;01mif\u001b[39;00m mldb\u001b[38;5;241m.\u001b[39mkind \u001b[38;5;241m!=\u001b[39m \u001b[38;5;124m\"\u001b[39m\u001b[38;5;124mhttp\u001b[39m\u001b[38;5;124m\"\u001b[39m:\n\u001b[1;32m   1098\u001b[0m     \u001b[38;5;28;01mraise\u001b[39;00m \u001b[38;5;167;01mValueError\u001b[39;00m(\n\u001b[1;32m   1099\u001b[0m         \u001b[38;5;124m\"\u001b[39m\u001b[38;5;124mrun pipeline require access to remote api-service\u001b[39m\u001b[38;5;124m\"\u001b[39m\n\u001b[1;32m   1100\u001b[0m         \u001b[38;5;124m\"\u001b[39m\u001b[38;5;124m, please set the dbpath url\u001b[39m\u001b[38;5;124m\"\u001b[39m\n\u001b[1;32m   1101\u001b[0m     )\n\u001b[0;32m-> 1103\u001b[0m pipeline_run_id \u001b[38;5;241m=\u001b[39m \u001b[43mmldb\u001b[49m\u001b[38;5;241;43m.\u001b[39;49m\u001b[43msubmit_pipeline\u001b[49m\u001b[43m(\u001b[49m\n\u001b[1;32m   1104\u001b[0m \u001b[43m    \u001b[49m\u001b[43mproject\u001b[49m\u001b[43m,\u001b[49m\n\u001b[1;32m   1105\u001b[0m \u001b[43m    \u001b[49m\u001b[43mpipeline\u001b[49m\u001b[43m,\u001b[49m\n\u001b[1;32m   1106\u001b[0m \u001b[43m    \u001b[49m\u001b[43marguments\u001b[49m\u001b[43m,\u001b[49m\n\u001b[1;32m   1107\u001b[0m \u001b[43m    \u001b[49m\u001b[43mexperiment\u001b[49m\u001b[38;5;241;43m=\u001b[39;49m\u001b[43mexperiment\u001b[49m\u001b[43m,\u001b[49m\n\u001b[1;32m   1108\u001b[0m \u001b[43m    \u001b[49m\u001b[43mrun\u001b[49m\u001b[38;5;241;43m=\u001b[39;49m\u001b[43mrun\u001b[49m\u001b[43m,\u001b[49m\n\u001b[1;32m   1109\u001b[0m \u001b[43m    \u001b[49m\u001b[43mnamespace\u001b[49m\u001b[38;5;241;43m=\u001b[39;49m\u001b[43mnamespace\u001b[49m\u001b[43m,\u001b[49m\n\u001b[1;32m   1110\u001b[0m \u001b[43m    \u001b[49m\u001b[43mops\u001b[49m\u001b[38;5;241;43m=\u001b[39;49m\u001b[43mops\u001b[49m\u001b[43m,\u001b[49m\n\u001b[1;32m   1111\u001b[0m \u001b[43m    \u001b[49m\u001b[43martifact_path\u001b[49m\u001b[38;5;241;43m=\u001b[39;49m\u001b[43martifact_path\u001b[49m\u001b[43m,\u001b[49m\n\u001b[1;32m   1112\u001b[0m \u001b[43m    \u001b[49m\u001b[43mcleanup_ttl\u001b[49m\u001b[38;5;241;43m=\u001b[39;49m\u001b[43mcleanup_ttl\u001b[49m\u001b[43m,\u001b[49m\n\u001b[1;32m   1113\u001b[0m \u001b[43m\u001b[49m\u001b[43m)\u001b[49m\n\u001b[1;32m   1114\u001b[0m logger\u001b[38;5;241m.\u001b[39minfo(\u001b[38;5;124mf\u001b[39m\u001b[38;5;124m\"\u001b[39m\u001b[38;5;124mPipeline run id=\u001b[39m\u001b[38;5;132;01m{\u001b[39;00mpipeline_run_id\u001b[38;5;132;01m}\u001b[39;00m\u001b[38;5;124m, check UI for progress\u001b[39m\u001b[38;5;124m\"\u001b[39m)\n\u001b[1;32m   1115\u001b[0m \u001b[38;5;28;01mreturn\u001b[39;00m pipeline_run_id\n",
      "File \u001b[0;32m/opt/conda/lib/python3.9/site-packages/mlrun/db/httpdb.py:1429\u001b[0m, in \u001b[0;36mHTTPRunDB.submit_pipeline\u001b[0;34m(self, project, pipeline, arguments, experiment, run, namespace, artifact_path, ops, ttl, cleanup_ttl)\u001b[0m\n\u001b[1;32m   1427\u001b[0m \u001b[38;5;28;01mexcept\u001b[39;00m \u001b[38;5;167;01mOSError\u001b[39;00m \u001b[38;5;28;01mas\u001b[39;00m err:\n\u001b[1;32m   1428\u001b[0m     logger\u001b[38;5;241m.\u001b[39merror(\u001b[38;5;124mf\u001b[39m\u001b[38;5;124m\"\u001b[39m\u001b[38;5;124merror cannot submit pipeline: \u001b[39m\u001b[38;5;132;01m{\u001b[39;00merr_to_str(err)\u001b[38;5;132;01m}\u001b[39;00m\u001b[38;5;124m\"\u001b[39m)\n\u001b[0;32m-> 1429\u001b[0m     \u001b[38;5;28;01mraise\u001b[39;00m \u001b[38;5;167;01mOSError\u001b[39;00m(\u001b[38;5;124mf\u001b[39m\u001b[38;5;124m\"\u001b[39m\u001b[38;5;124merror: cannot cannot submit pipeline, \u001b[39m\u001b[38;5;132;01m{\u001b[39;00merr_to_str(err)\u001b[38;5;132;01m}\u001b[39;00m\u001b[38;5;124m\"\u001b[39m)\n\u001b[1;32m   1431\u001b[0m \u001b[38;5;28;01mif\u001b[39;00m \u001b[38;5;129;01mnot\u001b[39;00m resp\u001b[38;5;241m.\u001b[39mok:\n\u001b[1;32m   1432\u001b[0m     logger\u001b[38;5;241m.\u001b[39merror(\u001b[38;5;124mf\u001b[39m\u001b[38;5;124m\"\u001b[39m\u001b[38;5;124mbad resp!!\u001b[39m\u001b[38;5;130;01m\\n\u001b[39;00m\u001b[38;5;132;01m{\u001b[39;00mresp\u001b[38;5;241m.\u001b[39mtext\u001b[38;5;132;01m}\u001b[39;00m\u001b[38;5;124m\"\u001b[39m)\n",
      "\u001b[0;31mOSError\u001b[0m: error: cannot cannot submit pipeline, Invalid leading whitespace, reserved character(s), or returncharacter(s) in header value: \"{'model_name': 'credit-classifier', 'dataset':        customer_id  person_age  person_income person_home_ownership  \\\\\\n0                1          22          59000                  RENT   \\n1                2          21           9600                   OWN   \\n2                3          25           9600              MORTGAGE   \\n3                4          23          65500                  RENT   \\n4                5          24          54400                  RENT   \\n...            ...         ...            ...                   ...   \\n32576        32577          57          53000              MORTGAGE   \\n32577        32578          54         120000              MORTGAGE   \\n32578        32579          65          76000                  RENT   \\n32579        32580          56         150000              MORTGAGE   \\n32580        32581          66          42000                  RENT   \\n\\n       person_emp_length      loan_intent loan_grade  loan_amnt  \\\\\\n0                  123.0         PERSONAL          D      35000   \\n1                    5.0        EDUCATION          B       1000   \\n2                    1.0          MEDICAL          C       5500   \\n3                    4.0          MEDICAL          C      35000   \\n4                    8.0          MEDICAL          C      35000   \\n...                  ...              ...        ...        ...   \\n32576                1.0         PERSONAL          C       5800   \\n32577                4.0         PERSONAL          A      17625   \\n32578                3.0  HOMEIMPROVEMENT          B      35000   \\n32579                5.0         PERSONAL          B      15000   \\n32580                2.0          MEDICAL          B       6475   \\n\\n       loan_int_rate  loan_status  loan_percent_income  \\\\\\n0              16.02            1                 0.59   \\n1              11.14            0                 0.10   \\n2              12.87            1                 0.57   \\n3              15.23            1                 0.53   \\n4              14.27            1                 0.55   \\n...              ...          ...                  ...   \\n32576          13.16            0                 0.11   \\n32577           7.49            0                 0.15   \\n32578          10.99            1                 0.46   \\n32579          11.48            0                 0.10   \\n32580           9.99            0                 0.15   \\n\\n      cb_person_default_on_file  cb_person_cred_hist_length  \\n0                             Y                           3  \\n1                             N                           2  \\n2                             N                           3  \\n3                             N                           2  \\n4                             Y                           4  \\n...                         ...                         ...  \\n32576                         N                          30  \\n32577                         N                          19  \\n32578                         N                          28  \\n32579                         N                          26  \\n32580                         N                          30  \\n\\n[32581 rows x 13 columns]}\", caused by: Invalid leading whitespace, reserved character(s), or returncharacter(s) in header value: \"{'model_name': 'credit-classifier', 'dataset':        customer_id  person_age  person_income person_home_ownership  \\\\\\n0                1          22          59000                  RENT   \\n1                2          21           9600                   OWN   \\n2                3          25           9600              MORTGAGE   \\n3                4          23          65500                  RENT   \\n4                5          24          54400                  RENT   \\n...            ...         ...            ...                   ...   \\n32576        32577          57          53000              MORTGAGE   \\n32577        32578          54         120000              MORTGAGE   \\n32578        32579          65          76000                  RENT   \\n32579        32580          56         150000              MORTGAGE   \\n32580        32581          66          42000                  RENT   \\n\\n       person_emp_length      loan_intent loan_grade  loan_amnt  \\\\\\n0                  123.0         PERSONAL          D      35000   \\n1                    5.0        EDUCATION          B       1000   \\n2                    1.0          MEDICAL          C       5500   \\n3                    4.0          MEDICAL          C      35000   \\n4                    8.0          MEDICAL          C      35000   \\n...                  ...              ...        ...        ...   \\n32576                1.0         PERSONAL          C       5800   \\n32577                4.0         PERSONAL          A      17625   \\n32578                3.0  HOMEIMPROVEMENT          B      35000   \\n32579                5.0         PERSONAL          B      15000   \\n32580                2.0          MEDICAL          B       6475   \\n\\n       loan_int_rate  loan_status  loan_percent_income  \\\\\\n0              16.02            1                 0.59   \\n1              11.14            0                 0.10   \\n2              12.87            1                 0.57   \\n3              15.23            1                 0.53   \\n4              14.27            1                 0.55   \\n...              ...          ...                  ...   \\n32576          13.16            0                 0.11   \\n32577           7.49            0                 0.15   \\n32578          10.99            1                 0.46   \\n32579          11.48            0                 0.10   \\n32580           9.99            0                 0.15   \\n\\n      cb_person_default_on_file  cb_person_cred_hist_length  \\n0                             Y                           3  \\n1                             N                           2  \\n2                             N                           3  \\n3                             N                           2  \\n4                             Y                           4  \\n...                         ...                         ...  \\n32576                         N                          30  \\n32577                         N                          19  \\n32578                         N                          28  \\n32579                         N                          26  \\n32580                         N                          30  \\n\\n[32581 rows x 13 columns]}\""
     ]
    }
   ],
   "source": [
    "# Run the workflow\n",
    "run_id = project.run(\n",
    "    workflow_path=\"./workflow-oracle.py\",\n",
    "    arguments={\"model_name\": \"credit-classifier\",\"dataset\": df},\n",
    "    watch=True,\n",
    ")"
   ]
  },
  {
   "cell_type": "code",
   "execution_count": null,
   "id": "75729d85-56bb-4844-888b-268b8c6c3b9e",
   "metadata": {},
   "outputs": [],
   "source": []
  }
 ],
 "metadata": {
  "kernelspec": {
   "display_name": "Python 3 (ipykernel)",
   "language": "python",
   "name": "python3"
  },
  "language_info": {
   "codemirror_mode": {
    "name": "ipython",
    "version": 3
   },
   "file_extension": ".py",
   "mimetype": "text/x-python",
   "name": "python",
   "nbconvert_exporter": "python",
   "pygments_lexer": "ipython3",
   "version": "3.9.13"
  }
 },
 "nbformat": 4,
 "nbformat_minor": 5
}
